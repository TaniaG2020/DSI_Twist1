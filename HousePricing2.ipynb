{
  "nbformat": 4,
  "nbformat_minor": 0,
  "metadata": {
    "colab": {
      "name": "HousePricing2.ipynb",
      "provenance": []
    },
    "kernelspec": {
      "name": "python3",
      "display_name": "Python 3"
    }
  },
  "cells": [
    {
      "cell_type": "code",
      "metadata": {
        "id": "hyE75TWNeu5h",
        "colab_type": "code",
        "colab": {
          "resources": {
            "http://localhost:8080/nbextensions/google.colab/files.js": {
              "data": "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",
              "ok": true,
              "headers": [
                [
                  "content-type",
                  "application/javascript"
                ]
              ],
              "status": 200,
              "status_text": ""
            }
          },
          "base_uri": "https://localhost:8080/",
          "height": 73
        },
        "outputId": "c54aff50-ba21-4c65-aa8c-e2eef1d147d1"
      },
      "source": [
        "# Import the data file\n",
        "from google.colab import files\n",
        "uploaded = files.upload()"
      ],
      "execution_count": 1,
      "outputs": [
        {
          "output_type": "display_data",
          "data": {
            "text/html": [
              "\n",
              "     <input type=\"file\" id=\"files-0ad22a3c-770b-47c5-b26d-32b833e5b63e\" name=\"files[]\" multiple disabled\n",
              "        style=\"border:none\" />\n",
              "     <output id=\"result-0ad22a3c-770b-47c5-b26d-32b833e5b63e\">\n",
              "      Upload widget is only available when the cell has been executed in the\n",
              "      current browser session. Please rerun this cell to enable.\n",
              "      </output>\n",
              "      <script src=\"/nbextensions/google.colab/files.js\"></script> "
            ],
            "text/plain": [
              "<IPython.core.display.HTML object>"
            ]
          },
          "metadata": {
            "tags": []
          }
        },
        {
          "output_type": "stream",
          "text": [
            "Saving houses2.csv to houses2.csv\n"
          ],
          "name": "stdout"
        }
      ]
    },
    {
      "cell_type": "code",
      "metadata": {
        "id": "pKdGFIdnfOpe",
        "colab_type": "code",
        "colab": {}
      },
      "source": [
        "import io\n",
        "import pandas as pd\n",
        "\n",
        "# Read the data\n",
        "X = pd.read_csv(io.BytesIO(uploaded['houses2.csv']))\n",
        "X_full = X.copy()"
      ],
      "execution_count": 541,
      "outputs": []
    },
    {
      "cell_type": "code",
      "metadata": {
        "id": "Ae_wPJiDBP8_",
        "colab_type": "code",
        "colab": {
          "base_uri": "https://localhost:8080/",
          "height": 225
        },
        "outputId": "e00deb58-42c1-4fa2-c471-3e8721da0d19"
      },
      "source": [
        "X.corr()"
      ],
      "execution_count": 342,
      "outputs": [
        {
          "output_type": "execute_result",
          "data": {
            "text/html": [
              "<div>\n",
              "<style scoped>\n",
              "    .dataframe tbody tr th:only-of-type {\n",
              "        vertical-align: middle;\n",
              "    }\n",
              "\n",
              "    .dataframe tbody tr th {\n",
              "        vertical-align: top;\n",
              "    }\n",
              "\n",
              "    .dataframe thead th {\n",
              "        text-align: right;\n",
              "    }\n",
              "</style>\n",
              "<table border=\"1\" class=\"dataframe\">\n",
              "  <thead>\n",
              "    <tr style=\"text-align: right;\">\n",
              "      <th></th>\n",
              "      <th>price</th>\n",
              "      <th>bed</th>\n",
              "      <th>bath</th>\n",
              "      <th>gar</th>\n",
              "      <th>sizeFloor</th>\n",
              "      <th>sizeErf</th>\n",
              "    </tr>\n",
              "  </thead>\n",
              "  <tbody>\n",
              "    <tr>\n",
              "      <th>price</th>\n",
              "      <td>1.000000</td>\n",
              "      <td>0.381359</td>\n",
              "      <td>0.532614</td>\n",
              "      <td>0.258201</td>\n",
              "      <td>0.624719</td>\n",
              "      <td>0.166813</td>\n",
              "    </tr>\n",
              "    <tr>\n",
              "      <th>bed</th>\n",
              "      <td>0.381359</td>\n",
              "      <td>1.000000</td>\n",
              "      <td>0.809991</td>\n",
              "      <td>0.558491</td>\n",
              "      <td>0.610220</td>\n",
              "      <td>0.162959</td>\n",
              "    </tr>\n",
              "    <tr>\n",
              "      <th>bath</th>\n",
              "      <td>0.532614</td>\n",
              "      <td>0.809991</td>\n",
              "      <td>1.000000</td>\n",
              "      <td>0.510572</td>\n",
              "      <td>0.640795</td>\n",
              "      <td>0.172507</td>\n",
              "    </tr>\n",
              "    <tr>\n",
              "      <th>gar</th>\n",
              "      <td>0.258201</td>\n",
              "      <td>0.558491</td>\n",
              "      <td>0.510572</td>\n",
              "      <td>1.000000</td>\n",
              "      <td>0.515788</td>\n",
              "      <td>0.151347</td>\n",
              "    </tr>\n",
              "    <tr>\n",
              "      <th>sizeFloor</th>\n",
              "      <td>0.624719</td>\n",
              "      <td>0.610220</td>\n",
              "      <td>0.640795</td>\n",
              "      <td>0.515788</td>\n",
              "      <td>1.000000</td>\n",
              "      <td>NaN</td>\n",
              "    </tr>\n",
              "    <tr>\n",
              "      <th>sizeErf</th>\n",
              "      <td>0.166813</td>\n",
              "      <td>0.162959</td>\n",
              "      <td>0.172507</td>\n",
              "      <td>0.151347</td>\n",
              "      <td>NaN</td>\n",
              "      <td>1.000000</td>\n",
              "    </tr>\n",
              "  </tbody>\n",
              "</table>\n",
              "</div>"
            ],
            "text/plain": [
              "              price       bed      bath       gar  sizeFloor   sizeErf\n",
              "price      1.000000  0.381359  0.532614  0.258201   0.624719  0.166813\n",
              "bed        0.381359  1.000000  0.809991  0.558491   0.610220  0.162959\n",
              "bath       0.532614  0.809991  1.000000  0.510572   0.640795  0.172507\n",
              "gar        0.258201  0.558491  0.510572  1.000000   0.515788  0.151347\n",
              "sizeFloor  0.624719  0.610220  0.640795  0.515788   1.000000       NaN\n",
              "sizeErf    0.166813  0.162959  0.172507  0.151347        NaN  1.000000"
            ]
          },
          "metadata": {
            "tags": []
          },
          "execution_count": 342
        }
      ]
    },
    {
      "cell_type": "code",
      "metadata": {
        "id": "zWCU9faFfgJ4",
        "colab_type": "code",
        "colab": {
          "base_uri": "https://localhost:8080/",
          "height": 284
        },
        "outputId": "858850d2-5370-4429-bc44-99e894ec69a0"
      },
      "source": [
        "#print a summary of the data\n",
        "X_full.describe()"
      ],
      "execution_count": 445,
      "outputs": [
        {
          "output_type": "execute_result",
          "data": {
            "text/html": [
              "<div>\n",
              "<style scoped>\n",
              "    .dataframe tbody tr th:only-of-type {\n",
              "        vertical-align: middle;\n",
              "    }\n",
              "\n",
              "    .dataframe tbody tr th {\n",
              "        vertical-align: top;\n",
              "    }\n",
              "\n",
              "    .dataframe thead th {\n",
              "        text-align: right;\n",
              "    }\n",
              "</style>\n",
              "<table border=\"1\" class=\"dataframe\">\n",
              "  <thead>\n",
              "    <tr style=\"text-align: right;\">\n",
              "      <th></th>\n",
              "      <th>price</th>\n",
              "      <th>bed</th>\n",
              "      <th>bath</th>\n",
              "      <th>gar</th>\n",
              "      <th>sizeFloor</th>\n",
              "      <th>sizeErf</th>\n",
              "    </tr>\n",
              "  </thead>\n",
              "  <tbody>\n",
              "    <tr>\n",
              "      <th>count</th>\n",
              "      <td>1.661000e+04</td>\n",
              "      <td>16418.000000</td>\n",
              "      <td>16563.000000</td>\n",
              "      <td>14436.000000</td>\n",
              "      <td>7884.000000</td>\n",
              "      <td>7694.000000</td>\n",
              "    </tr>\n",
              "    <tr>\n",
              "      <th>mean</th>\n",
              "      <td>4.220758e+06</td>\n",
              "      <td>2.805275</td>\n",
              "      <td>2.138834</td>\n",
              "      <td>2.413930</td>\n",
              "      <td>100.118595</td>\n",
              "      <td>786.298154</td>\n",
              "    </tr>\n",
              "    <tr>\n",
              "      <th>std</th>\n",
              "      <td>6.053973e+06</td>\n",
              "      <td>1.488192</td>\n",
              "      <td>1.352039</td>\n",
              "      <td>1.943572</td>\n",
              "      <td>86.378733</td>\n",
              "      <td>2168.768798</td>\n",
              "    </tr>\n",
              "    <tr>\n",
              "      <th>min</th>\n",
              "      <td>2.000000e+05</td>\n",
              "      <td>0.500000</td>\n",
              "      <td>0.500000</td>\n",
              "      <td>0.500000</td>\n",
              "      <td>17.000000</td>\n",
              "      <td>28.000000</td>\n",
              "    </tr>\n",
              "    <tr>\n",
              "      <th>25%</th>\n",
              "      <td>1.595000e+06</td>\n",
              "      <td>2.000000</td>\n",
              "      <td>1.000000</td>\n",
              "      <td>1.000000</td>\n",
              "      <td>58.000000</td>\n",
              "      <td>282.000000</td>\n",
              "    </tr>\n",
              "    <tr>\n",
              "      <th>50%</th>\n",
              "      <td>2.500000e+06</td>\n",
              "      <td>3.000000</td>\n",
              "      <td>2.000000</td>\n",
              "      <td>2.000000</td>\n",
              "      <td>77.000000</td>\n",
              "      <td>497.000000</td>\n",
              "    </tr>\n",
              "    <tr>\n",
              "      <th>75%</th>\n",
              "      <td>4.350000e+06</td>\n",
              "      <td>3.000000</td>\n",
              "      <td>2.500000</td>\n",
              "      <td>3.000000</td>\n",
              "      <td>110.000000</td>\n",
              "      <td>810.750000</td>\n",
              "    </tr>\n",
              "    <tr>\n",
              "      <th>max</th>\n",
              "      <td>1.725000e+08</td>\n",
              "      <td>33.000000</td>\n",
              "      <td>30.000000</td>\n",
              "      <td>58.000000</td>\n",
              "      <td>2203.000000</td>\n",
              "      <td>142048.000000</td>\n",
              "    </tr>\n",
              "  </tbody>\n",
              "</table>\n",
              "</div>"
            ],
            "text/plain": [
              "              price           bed  ...    sizeFloor        sizeErf\n",
              "count  1.661000e+04  16418.000000  ...  7884.000000    7694.000000\n",
              "mean   4.220758e+06      2.805275  ...   100.118595     786.298154\n",
              "std    6.053973e+06      1.488192  ...    86.378733    2168.768798\n",
              "min    2.000000e+05      0.500000  ...    17.000000      28.000000\n",
              "25%    1.595000e+06      2.000000  ...    58.000000     282.000000\n",
              "50%    2.500000e+06      3.000000  ...    77.000000     497.000000\n",
              "75%    4.350000e+06      3.000000  ...   110.000000     810.750000\n",
              "max    1.725000e+08     33.000000  ...  2203.000000  142048.000000\n",
              "\n",
              "[8 rows x 6 columns]"
            ]
          },
          "metadata": {
            "tags": []
          },
          "execution_count": 445
        }
      ]
    },
    {
      "cell_type": "markdown",
      "metadata": {
        "id": "QSbjr8KphLvk",
        "colab_type": "text"
      },
      "source": [
        "58 Parking Spaces? Probably very different definitions, not sure if can be used."
      ]
    },
    {
      "cell_type": "code",
      "metadata": {
        "id": "T8-qrDVDgpCX",
        "colab_type": "code",
        "colab": {
          "base_uri": "https://localhost:8080/",
          "height": 195
        },
        "outputId": "9096a81b-82a7-475c-d25b-84e662d2521e"
      },
      "source": [
        "X_full.head()"
      ],
      "execution_count": 344,
      "outputs": [
        {
          "output_type": "execute_result",
          "data": {
            "text/html": [
              "<div>\n",
              "<style scoped>\n",
              "    .dataframe tbody tr th:only-of-type {\n",
              "        vertical-align: middle;\n",
              "    }\n",
              "\n",
              "    .dataframe tbody tr th {\n",
              "        vertical-align: top;\n",
              "    }\n",
              "\n",
              "    .dataframe thead th {\n",
              "        text-align: right;\n",
              "    }\n",
              "</style>\n",
              "<table border=\"1\" class=\"dataframe\">\n",
              "  <thead>\n",
              "    <tr style=\"text-align: right;\">\n",
              "      <th></th>\n",
              "      <th>price</th>\n",
              "      <th>desc</th>\n",
              "      <th>loc</th>\n",
              "      <th>bed</th>\n",
              "      <th>bath</th>\n",
              "      <th>gar</th>\n",
              "      <th>sizeFloor</th>\n",
              "      <th>sizeErf</th>\n",
              "      <th>area</th>\n",
              "    </tr>\n",
              "  </thead>\n",
              "  <tbody>\n",
              "    <tr>\n",
              "      <th>0</th>\n",
              "      <td>200000</td>\n",
              "      <td>House</td>\n",
              "      <td>Sir Lowrys Pass</td>\n",
              "      <td>1.0</td>\n",
              "      <td>1.0</td>\n",
              "      <td>NaN</td>\n",
              "      <td>NaN</td>\n",
              "      <td>NaN</td>\n",
              "      <td>somerset-west</td>\n",
              "    </tr>\n",
              "    <tr>\n",
              "      <th>1</th>\n",
              "      <td>200000</td>\n",
              "      <td>House</td>\n",
              "      <td>Mandela Park</td>\n",
              "      <td>2.0</td>\n",
              "      <td>1.0</td>\n",
              "      <td>NaN</td>\n",
              "      <td>NaN</td>\n",
              "      <td>113.0</td>\n",
              "      <td>cape-flats</td>\n",
              "    </tr>\n",
              "    <tr>\n",
              "      <th>2</th>\n",
              "      <td>200000</td>\n",
              "      <td>House</td>\n",
              "      <td>Mandela Park</td>\n",
              "      <td>3.0</td>\n",
              "      <td>1.0</td>\n",
              "      <td>NaN</td>\n",
              "      <td>NaN</td>\n",
              "      <td>150.0</td>\n",
              "      <td>cape-flats</td>\n",
              "    </tr>\n",
              "    <tr>\n",
              "      <th>3</th>\n",
              "      <td>220000</td>\n",
              "      <td>House</td>\n",
              "      <td>Broadlands</td>\n",
              "      <td>2.0</td>\n",
              "      <td>1.0</td>\n",
              "      <td>NaN</td>\n",
              "      <td>NaN</td>\n",
              "      <td>270.0</td>\n",
              "      <td>strand-gordon</td>\n",
              "    </tr>\n",
              "    <tr>\n",
              "      <th>4</th>\n",
              "      <td>240000</td>\n",
              "      <td>House</td>\n",
              "      <td>Nonqubela</td>\n",
              "      <td>2.0</td>\n",
              "      <td>1.0</td>\n",
              "      <td>NaN</td>\n",
              "      <td>NaN</td>\n",
              "      <td>78.0</td>\n",
              "      <td>cape-flats</td>\n",
              "    </tr>\n",
              "  </tbody>\n",
              "</table>\n",
              "</div>"
            ],
            "text/plain": [
              "    price   desc              loc  bed  ...  gar  sizeFloor  sizeErf           area\n",
              "0  200000  House  Sir Lowrys Pass  1.0  ...  NaN        NaN      NaN  somerset-west\n",
              "1  200000  House     Mandela Park  2.0  ...  NaN        NaN    113.0     cape-flats\n",
              "2  200000  House     Mandela Park  3.0  ...  NaN        NaN    150.0     cape-flats\n",
              "3  220000  House       Broadlands  2.0  ...  NaN        NaN    270.0  strand-gordon\n",
              "4  240000  House        Nonqubela  2.0  ...  NaN        NaN     78.0     cape-flats\n",
              "\n",
              "[5 rows x 9 columns]"
            ]
          },
          "metadata": {
            "tags": []
          },
          "execution_count": 344
        }
      ]
    },
    {
      "cell_type": "code",
      "metadata": {
        "id": "2Zo7mErohcn1",
        "colab_type": "code",
        "colab": {}
      },
      "source": [
        "X_full.columns = [\"Price\", \"Acc_type\", \"sub\", \"bed\", \"bath\", \"park\", \"sizeFloor\",\"sizeErf\",\"area\"]"
      ],
      "execution_count": 542,
      "outputs": []
    },
    {
      "cell_type": "code",
      "metadata": {
        "id": "gsY0NjgvjQWC",
        "colab_type": "code",
        "colab": {
          "base_uri": "https://localhost:8080/",
          "height": 195
        },
        "outputId": "58ef3d07-b2d7-47b7-92b0-6f6be9fc2fcb"
      },
      "source": [
        "X_full.head()"
      ],
      "execution_count": 434,
      "outputs": [
        {
          "output_type": "execute_result",
          "data": {
            "text/html": [
              "<div>\n",
              "<style scoped>\n",
              "    .dataframe tbody tr th:only-of-type {\n",
              "        vertical-align: middle;\n",
              "    }\n",
              "\n",
              "    .dataframe tbody tr th {\n",
              "        vertical-align: top;\n",
              "    }\n",
              "\n",
              "    .dataframe thead th {\n",
              "        text-align: right;\n",
              "    }\n",
              "</style>\n",
              "<table border=\"1\" class=\"dataframe\">\n",
              "  <thead>\n",
              "    <tr style=\"text-align: right;\">\n",
              "      <th></th>\n",
              "      <th>Price</th>\n",
              "      <th>Acc_type</th>\n",
              "      <th>sub</th>\n",
              "      <th>bed</th>\n",
              "      <th>bath</th>\n",
              "      <th>park</th>\n",
              "      <th>sizeFloor</th>\n",
              "      <th>sizeErf</th>\n",
              "      <th>area</th>\n",
              "    </tr>\n",
              "  </thead>\n",
              "  <tbody>\n",
              "    <tr>\n",
              "      <th>0</th>\n",
              "      <td>200000</td>\n",
              "      <td>House</td>\n",
              "      <td>Sir Lowrys Pass</td>\n",
              "      <td>1.0</td>\n",
              "      <td>1.0</td>\n",
              "      <td>NaN</td>\n",
              "      <td>NaN</td>\n",
              "      <td>NaN</td>\n",
              "      <td>somerset-west</td>\n",
              "    </tr>\n",
              "    <tr>\n",
              "      <th>1</th>\n",
              "      <td>200000</td>\n",
              "      <td>House</td>\n",
              "      <td>Mandela Park</td>\n",
              "      <td>2.0</td>\n",
              "      <td>1.0</td>\n",
              "      <td>NaN</td>\n",
              "      <td>NaN</td>\n",
              "      <td>113.0</td>\n",
              "      <td>cape-flats</td>\n",
              "    </tr>\n",
              "    <tr>\n",
              "      <th>2</th>\n",
              "      <td>200000</td>\n",
              "      <td>House</td>\n",
              "      <td>Mandela Park</td>\n",
              "      <td>3.0</td>\n",
              "      <td>1.0</td>\n",
              "      <td>NaN</td>\n",
              "      <td>NaN</td>\n",
              "      <td>150.0</td>\n",
              "      <td>cape-flats</td>\n",
              "    </tr>\n",
              "    <tr>\n",
              "      <th>3</th>\n",
              "      <td>220000</td>\n",
              "      <td>House</td>\n",
              "      <td>Broadlands</td>\n",
              "      <td>2.0</td>\n",
              "      <td>1.0</td>\n",
              "      <td>NaN</td>\n",
              "      <td>NaN</td>\n",
              "      <td>270.0</td>\n",
              "      <td>strand-gordon</td>\n",
              "    </tr>\n",
              "    <tr>\n",
              "      <th>4</th>\n",
              "      <td>240000</td>\n",
              "      <td>House</td>\n",
              "      <td>Nonqubela</td>\n",
              "      <td>2.0</td>\n",
              "      <td>1.0</td>\n",
              "      <td>NaN</td>\n",
              "      <td>NaN</td>\n",
              "      <td>78.0</td>\n",
              "      <td>cape-flats</td>\n",
              "    </tr>\n",
              "  </tbody>\n",
              "</table>\n",
              "</div>"
            ],
            "text/plain": [
              "    Price Acc_type              sub  ...  sizeFloor  sizeErf           area\n",
              "0  200000    House  Sir Lowrys Pass  ...        NaN      NaN  somerset-west\n",
              "1  200000    House     Mandela Park  ...        NaN    113.0     cape-flats\n",
              "2  200000    House     Mandela Park  ...        NaN    150.0     cape-flats\n",
              "3  220000    House       Broadlands  ...        NaN    270.0  strand-gordon\n",
              "4  240000    House        Nonqubela  ...        NaN     78.0     cape-flats\n",
              "\n",
              "[5 rows x 9 columns]"
            ]
          },
          "metadata": {
            "tags": []
          },
          "execution_count": 434
        }
      ]
    },
    {
      "cell_type": "code",
      "metadata": {
        "id": "GfIEfkEcA_lU",
        "colab_type": "code",
        "colab": {
          "base_uri": "https://localhost:8080/",
          "height": 225
        },
        "outputId": "db275d3c-44c2-4f13-8018-8a84bd8d7472"
      },
      "source": [
        "X_full.corr()"
      ],
      "execution_count": 347,
      "outputs": [
        {
          "output_type": "execute_result",
          "data": {
            "text/html": [
              "<div>\n",
              "<style scoped>\n",
              "    .dataframe tbody tr th:only-of-type {\n",
              "        vertical-align: middle;\n",
              "    }\n",
              "\n",
              "    .dataframe tbody tr th {\n",
              "        vertical-align: top;\n",
              "    }\n",
              "\n",
              "    .dataframe thead th {\n",
              "        text-align: right;\n",
              "    }\n",
              "</style>\n",
              "<table border=\"1\" class=\"dataframe\">\n",
              "  <thead>\n",
              "    <tr style=\"text-align: right;\">\n",
              "      <th></th>\n",
              "      <th>Price</th>\n",
              "      <th>bed</th>\n",
              "      <th>bath</th>\n",
              "      <th>park</th>\n",
              "      <th>sizeFloor</th>\n",
              "      <th>sizeErf</th>\n",
              "    </tr>\n",
              "  </thead>\n",
              "  <tbody>\n",
              "    <tr>\n",
              "      <th>Price</th>\n",
              "      <td>1.000000</td>\n",
              "      <td>0.381359</td>\n",
              "      <td>0.532614</td>\n",
              "      <td>0.258201</td>\n",
              "      <td>0.624719</td>\n",
              "      <td>0.166813</td>\n",
              "    </tr>\n",
              "    <tr>\n",
              "      <th>bed</th>\n",
              "      <td>0.381359</td>\n",
              "      <td>1.000000</td>\n",
              "      <td>0.809991</td>\n",
              "      <td>0.558491</td>\n",
              "      <td>0.610220</td>\n",
              "      <td>0.162959</td>\n",
              "    </tr>\n",
              "    <tr>\n",
              "      <th>bath</th>\n",
              "      <td>0.532614</td>\n",
              "      <td>0.809991</td>\n",
              "      <td>1.000000</td>\n",
              "      <td>0.510572</td>\n",
              "      <td>0.640795</td>\n",
              "      <td>0.172507</td>\n",
              "    </tr>\n",
              "    <tr>\n",
              "      <th>park</th>\n",
              "      <td>0.258201</td>\n",
              "      <td>0.558491</td>\n",
              "      <td>0.510572</td>\n",
              "      <td>1.000000</td>\n",
              "      <td>0.515788</td>\n",
              "      <td>0.151347</td>\n",
              "    </tr>\n",
              "    <tr>\n",
              "      <th>sizeFloor</th>\n",
              "      <td>0.624719</td>\n",
              "      <td>0.610220</td>\n",
              "      <td>0.640795</td>\n",
              "      <td>0.515788</td>\n",
              "      <td>1.000000</td>\n",
              "      <td>NaN</td>\n",
              "    </tr>\n",
              "    <tr>\n",
              "      <th>sizeErf</th>\n",
              "      <td>0.166813</td>\n",
              "      <td>0.162959</td>\n",
              "      <td>0.172507</td>\n",
              "      <td>0.151347</td>\n",
              "      <td>NaN</td>\n",
              "      <td>1.000000</td>\n",
              "    </tr>\n",
              "  </tbody>\n",
              "</table>\n",
              "</div>"
            ],
            "text/plain": [
              "              Price       bed      bath      park  sizeFloor   sizeErf\n",
              "Price      1.000000  0.381359  0.532614  0.258201   0.624719  0.166813\n",
              "bed        0.381359  1.000000  0.809991  0.558491   0.610220  0.162959\n",
              "bath       0.532614  0.809991  1.000000  0.510572   0.640795  0.172507\n",
              "park       0.258201  0.558491  0.510572  1.000000   0.515788  0.151347\n",
              "sizeFloor  0.624719  0.610220  0.640795  0.515788   1.000000       NaN\n",
              "sizeErf    0.166813  0.162959  0.172507  0.151347        NaN  1.000000"
            ]
          },
          "metadata": {
            "tags": []
          },
          "execution_count": 347
        }
      ]
    },
    {
      "cell_type": "markdown",
      "metadata": {
        "id": "HURQVbLA4UJV",
        "colab_type": "text"
      },
      "source": [
        "Removing outliers:\n",
        "Random Forest: 1565095.537082523\n",
        "XGBoost : 1442314.659502813"
      ]
    },
    {
      "cell_type": "code",
      "metadata": {
        "id": "wn3JNy9EsQne",
        "colab_type": "code",
        "colab": {}
      },
      "source": [
        "X_testbla = X_full[X_full['Acc_type'] == 'House']"
      ],
      "execution_count": 544,
      "outputs": []
    },
    {
      "cell_type": "code",
      "metadata": {
        "id": "gWD6T3Yl4S4L",
        "colab_type": "code",
        "colab": {}
      },
      "source": [
        "X_test1 = X_testbla[X_testbla['Price'] < 10000000]  \n",
        "X_test2 = X_test1[X_test1['bed'] < 9]  \n",
        "X_test3 = X_test2[X_test2['bath'] < 7]  \n",
        "X_test4 = X_test3[X_test3['park'] < 9]  \n",
        "#X_test5 = X_test4[X_test4['sizeFloor'] < 220]\n",
        "X_test5 = X_test4[X_test4['sizeErf'] < 7500]"
      ],
      "execution_count": 550,
      "outputs": []
    },
    {
      "cell_type": "code",
      "metadata": {
        "id": "n0YanK38oak-",
        "colab_type": "code",
        "colab": {}
      },
      "source": [
        "X_test6 = X_test5[X_test5['Acc_type'] == 'Apartment']"
      ],
      "execution_count": 521,
      "outputs": []
    },
    {
      "cell_type": "code",
      "metadata": {
        "id": "T1bExKP347c-",
        "colab_type": "code",
        "colab": {
          "base_uri": "https://localhost:8080/",
          "height": 34
        },
        "outputId": "b2262ebc-b357-463c-d32e-7c73d02a6ab7"
      },
      "source": [
        "len(X_test5.index)"
      ],
      "execution_count": 551,
      "outputs": [
        {
          "output_type": "execute_result",
          "data": {
            "text/plain": [
              "5603"
            ]
          },
          "metadata": {
            "tags": []
          },
          "execution_count": 551
        }
      ]
    },
    {
      "cell_type": "code",
      "metadata": {
        "id": "pqhvSgktJ8_l",
        "colab_type": "code",
        "colab": {
          "base_uri": "https://localhost:8080/",
          "height": 195
        },
        "outputId": "8bc6add6-c4e7-4178-d56a-2fdac861b365"
      },
      "source": [
        "X_test5.head()"
      ],
      "execution_count": 552,
      "outputs": [
        {
          "output_type": "execute_result",
          "data": {
            "text/html": [
              "<div>\n",
              "<style scoped>\n",
              "    .dataframe tbody tr th:only-of-type {\n",
              "        vertical-align: middle;\n",
              "    }\n",
              "\n",
              "    .dataframe tbody tr th {\n",
              "        vertical-align: top;\n",
              "    }\n",
              "\n",
              "    .dataframe thead th {\n",
              "        text-align: right;\n",
              "    }\n",
              "</style>\n",
              "<table border=\"1\" class=\"dataframe\">\n",
              "  <thead>\n",
              "    <tr style=\"text-align: right;\">\n",
              "      <th></th>\n",
              "      <th>Price</th>\n",
              "      <th>Acc_type</th>\n",
              "      <th>sub</th>\n",
              "      <th>bed</th>\n",
              "      <th>bath</th>\n",
              "      <th>park</th>\n",
              "      <th>sizeFloor</th>\n",
              "      <th>sizeErf</th>\n",
              "      <th>area</th>\n",
              "    </tr>\n",
              "  </thead>\n",
              "  <tbody>\n",
              "    <tr>\n",
              "      <th>12</th>\n",
              "      <td>310000</td>\n",
              "      <td>House</td>\n",
              "      <td>Nomzamo</td>\n",
              "      <td>2.0</td>\n",
              "      <td>1.0</td>\n",
              "      <td>1.0</td>\n",
              "      <td>NaN</td>\n",
              "      <td>204.0</td>\n",
              "      <td>strand-gordon</td>\n",
              "    </tr>\n",
              "    <tr>\n",
              "      <th>21</th>\n",
              "      <td>350000</td>\n",
              "      <td>House</td>\n",
              "      <td>Tafelsig</td>\n",
              "      <td>2.0</td>\n",
              "      <td>1.0</td>\n",
              "      <td>1.0</td>\n",
              "      <td>NaN</td>\n",
              "      <td>213.0</td>\n",
              "      <td>cape-flats</td>\n",
              "    </tr>\n",
              "    <tr>\n",
              "      <th>25</th>\n",
              "      <td>370000</td>\n",
              "      <td>House</td>\n",
              "      <td>Philippi East</td>\n",
              "      <td>2.0</td>\n",
              "      <td>1.0</td>\n",
              "      <td>1.0</td>\n",
              "      <td>NaN</td>\n",
              "      <td>130.0</td>\n",
              "      <td>cape-flats</td>\n",
              "    </tr>\n",
              "    <tr>\n",
              "      <th>31</th>\n",
              "      <td>380000</td>\n",
              "      <td>House</td>\n",
              "      <td>Tafelsig</td>\n",
              "      <td>3.0</td>\n",
              "      <td>1.0</td>\n",
              "      <td>1.0</td>\n",
              "      <td>NaN</td>\n",
              "      <td>237.0</td>\n",
              "      <td>cape-flats</td>\n",
              "    </tr>\n",
              "    <tr>\n",
              "      <th>43</th>\n",
              "      <td>399000</td>\n",
              "      <td>House</td>\n",
              "      <td>Eastridge</td>\n",
              "      <td>3.0</td>\n",
              "      <td>1.0</td>\n",
              "      <td>1.0</td>\n",
              "      <td>NaN</td>\n",
              "      <td>199.0</td>\n",
              "      <td>cape-flats</td>\n",
              "    </tr>\n",
              "  </tbody>\n",
              "</table>\n",
              "</div>"
            ],
            "text/plain": [
              "     Price Acc_type            sub  ...  sizeFloor  sizeErf           area\n",
              "12  310000    House        Nomzamo  ...        NaN    204.0  strand-gordon\n",
              "21  350000    House       Tafelsig  ...        NaN    213.0     cape-flats\n",
              "25  370000    House  Philippi East  ...        NaN    130.0     cape-flats\n",
              "31  380000    House       Tafelsig  ...        NaN    237.0     cape-flats\n",
              "43  399000    House      Eastridge  ...        NaN    199.0     cape-flats\n",
              "\n",
              "[5 rows x 9 columns]"
            ]
          },
          "metadata": {
            "tags": []
          },
          "execution_count": 552
        }
      ]
    },
    {
      "cell_type": "code",
      "metadata": {
        "id": "88GYnKzg5ATp",
        "colab_type": "code",
        "colab": {
          "base_uri": "https://localhost:8080/",
          "height": 34
        },
        "outputId": "032888d2-46f9-4e45-86eb-afcc456da3ea"
      },
      "source": [
        "len(X_full.index)"
      ],
      "execution_count": 332,
      "outputs": [
        {
          "output_type": "execute_result",
          "data": {
            "text/plain": [
              "16610"
            ]
          },
          "metadata": {
            "tags": []
          },
          "execution_count": 332
        }
      ]
    },
    {
      "cell_type": "code",
      "metadata": {
        "id": "HUMLPETP5D-B",
        "colab_type": "code",
        "colab": {
          "base_uri": "https://localhost:8080/",
          "height": 284
        },
        "outputId": "48fbafef-d39f-4dad-efec-00c9e6932834"
      },
      "source": [
        "X_test5.describe()"
      ],
      "execution_count": 553,
      "outputs": [
        {
          "output_type": "execute_result",
          "data": {
            "text/html": [
              "<div>\n",
              "<style scoped>\n",
              "    .dataframe tbody tr th:only-of-type {\n",
              "        vertical-align: middle;\n",
              "    }\n",
              "\n",
              "    .dataframe tbody tr th {\n",
              "        vertical-align: top;\n",
              "    }\n",
              "\n",
              "    .dataframe thead th {\n",
              "        text-align: right;\n",
              "    }\n",
              "</style>\n",
              "<table border=\"1\" class=\"dataframe\">\n",
              "  <thead>\n",
              "    <tr style=\"text-align: right;\">\n",
              "      <th></th>\n",
              "      <th>Price</th>\n",
              "      <th>bed</th>\n",
              "      <th>bath</th>\n",
              "      <th>park</th>\n",
              "      <th>sizeFloor</th>\n",
              "      <th>sizeErf</th>\n",
              "    </tr>\n",
              "  </thead>\n",
              "  <tbody>\n",
              "    <tr>\n",
              "      <th>count</th>\n",
              "      <td>5.603000e+03</td>\n",
              "      <td>5603.000000</td>\n",
              "      <td>5603.000000</td>\n",
              "      <td>5603.000000</td>\n",
              "      <td>0.0</td>\n",
              "      <td>5603.000000</td>\n",
              "    </tr>\n",
              "    <tr>\n",
              "      <th>mean</th>\n",
              "      <td>3.618501e+06</td>\n",
              "      <td>3.508388</td>\n",
              "      <td>2.537212</td>\n",
              "      <td>3.062734</td>\n",
              "      <td>NaN</td>\n",
              "      <td>611.266464</td>\n",
              "    </tr>\n",
              "    <tr>\n",
              "      <th>std</th>\n",
              "      <td>2.027204e+06</td>\n",
              "      <td>0.977807</td>\n",
              "      <td>1.038529</td>\n",
              "      <td>1.613448</td>\n",
              "      <td>NaN</td>\n",
              "      <td>492.734924</td>\n",
              "    </tr>\n",
              "    <tr>\n",
              "      <th>min</th>\n",
              "      <td>3.100000e+05</td>\n",
              "      <td>1.000000</td>\n",
              "      <td>1.000000</td>\n",
              "      <td>1.000000</td>\n",
              "      <td>NaN</td>\n",
              "      <td>37.000000</td>\n",
              "    </tr>\n",
              "    <tr>\n",
              "      <th>25%</th>\n",
              "      <td>2.195000e+06</td>\n",
              "      <td>3.000000</td>\n",
              "      <td>2.000000</td>\n",
              "      <td>2.000000</td>\n",
              "      <td>NaN</td>\n",
              "      <td>309.000000</td>\n",
              "    </tr>\n",
              "    <tr>\n",
              "      <th>50%</th>\n",
              "      <td>3.050000e+06</td>\n",
              "      <td>3.000000</td>\n",
              "      <td>2.000000</td>\n",
              "      <td>3.000000</td>\n",
              "      <td>NaN</td>\n",
              "      <td>498.000000</td>\n",
              "    </tr>\n",
              "    <tr>\n",
              "      <th>75%</th>\n",
              "      <td>4.500000e+06</td>\n",
              "      <td>4.000000</td>\n",
              "      <td>3.000000</td>\n",
              "      <td>4.000000</td>\n",
              "      <td>NaN</td>\n",
              "      <td>744.000000</td>\n",
              "    </tr>\n",
              "    <tr>\n",
              "      <th>max</th>\n",
              "      <td>9.999000e+06</td>\n",
              "      <td>8.000000</td>\n",
              "      <td>6.500000</td>\n",
              "      <td>8.000000</td>\n",
              "      <td>NaN</td>\n",
              "      <td>7250.000000</td>\n",
              "    </tr>\n",
              "  </tbody>\n",
              "</table>\n",
              "</div>"
            ],
            "text/plain": [
              "              Price          bed  ...  sizeFloor      sizeErf\n",
              "count  5.603000e+03  5603.000000  ...        0.0  5603.000000\n",
              "mean   3.618501e+06     3.508388  ...        NaN   611.266464\n",
              "std    2.027204e+06     0.977807  ...        NaN   492.734924\n",
              "min    3.100000e+05     1.000000  ...        NaN    37.000000\n",
              "25%    2.195000e+06     3.000000  ...        NaN   309.000000\n",
              "50%    3.050000e+06     3.000000  ...        NaN   498.000000\n",
              "75%    4.500000e+06     4.000000  ...        NaN   744.000000\n",
              "max    9.999000e+06     8.000000  ...        NaN  7250.000000\n",
              "\n",
              "[8 rows x 6 columns]"
            ]
          },
          "metadata": {
            "tags": []
          },
          "execution_count": 553
        }
      ]
    },
    {
      "cell_type": "code",
      "metadata": {
        "id": "S5hUDjVq5MAg",
        "colab_type": "code",
        "colab": {}
      },
      "source": [
        "X = X_full.copy()"
      ],
      "execution_count": 554,
      "outputs": []
    },
    {
      "cell_type": "code",
      "metadata": {
        "id": "2Vs1Xk915RCw",
        "colab_type": "code",
        "colab": {}
      },
      "source": [
        "X_full = X_test5.copy()"
      ],
      "execution_count": 555,
      "outputs": []
    },
    {
      "cell_type": "code",
      "metadata": {
        "id": "2qgZXyMy5UQX",
        "colab_type": "code",
        "colab": {
          "base_uri": "https://localhost:8080/",
          "height": 284
        },
        "outputId": "ee298703-6b9a-41e4-81d1-e0e5d879736e"
      },
      "source": [
        "X_full.describe()"
      ],
      "execution_count": 556,
      "outputs": [
        {
          "output_type": "execute_result",
          "data": {
            "text/html": [
              "<div>\n",
              "<style scoped>\n",
              "    .dataframe tbody tr th:only-of-type {\n",
              "        vertical-align: middle;\n",
              "    }\n",
              "\n",
              "    .dataframe tbody tr th {\n",
              "        vertical-align: top;\n",
              "    }\n",
              "\n",
              "    .dataframe thead th {\n",
              "        text-align: right;\n",
              "    }\n",
              "</style>\n",
              "<table border=\"1\" class=\"dataframe\">\n",
              "  <thead>\n",
              "    <tr style=\"text-align: right;\">\n",
              "      <th></th>\n",
              "      <th>Price</th>\n",
              "      <th>bed</th>\n",
              "      <th>bath</th>\n",
              "      <th>park</th>\n",
              "      <th>sizeFloor</th>\n",
              "      <th>sizeErf</th>\n",
              "    </tr>\n",
              "  </thead>\n",
              "  <tbody>\n",
              "    <tr>\n",
              "      <th>count</th>\n",
              "      <td>5.603000e+03</td>\n",
              "      <td>5603.000000</td>\n",
              "      <td>5603.000000</td>\n",
              "      <td>5603.000000</td>\n",
              "      <td>0.0</td>\n",
              "      <td>5603.000000</td>\n",
              "    </tr>\n",
              "    <tr>\n",
              "      <th>mean</th>\n",
              "      <td>3.618501e+06</td>\n",
              "      <td>3.508388</td>\n",
              "      <td>2.537212</td>\n",
              "      <td>3.062734</td>\n",
              "      <td>NaN</td>\n",
              "      <td>611.266464</td>\n",
              "    </tr>\n",
              "    <tr>\n",
              "      <th>std</th>\n",
              "      <td>2.027204e+06</td>\n",
              "      <td>0.977807</td>\n",
              "      <td>1.038529</td>\n",
              "      <td>1.613448</td>\n",
              "      <td>NaN</td>\n",
              "      <td>492.734924</td>\n",
              "    </tr>\n",
              "    <tr>\n",
              "      <th>min</th>\n",
              "      <td>3.100000e+05</td>\n",
              "      <td>1.000000</td>\n",
              "      <td>1.000000</td>\n",
              "      <td>1.000000</td>\n",
              "      <td>NaN</td>\n",
              "      <td>37.000000</td>\n",
              "    </tr>\n",
              "    <tr>\n",
              "      <th>25%</th>\n",
              "      <td>2.195000e+06</td>\n",
              "      <td>3.000000</td>\n",
              "      <td>2.000000</td>\n",
              "      <td>2.000000</td>\n",
              "      <td>NaN</td>\n",
              "      <td>309.000000</td>\n",
              "    </tr>\n",
              "    <tr>\n",
              "      <th>50%</th>\n",
              "      <td>3.050000e+06</td>\n",
              "      <td>3.000000</td>\n",
              "      <td>2.000000</td>\n",
              "      <td>3.000000</td>\n",
              "      <td>NaN</td>\n",
              "      <td>498.000000</td>\n",
              "    </tr>\n",
              "    <tr>\n",
              "      <th>75%</th>\n",
              "      <td>4.500000e+06</td>\n",
              "      <td>4.000000</td>\n",
              "      <td>3.000000</td>\n",
              "      <td>4.000000</td>\n",
              "      <td>NaN</td>\n",
              "      <td>744.000000</td>\n",
              "    </tr>\n",
              "    <tr>\n",
              "      <th>max</th>\n",
              "      <td>9.999000e+06</td>\n",
              "      <td>8.000000</td>\n",
              "      <td>6.500000</td>\n",
              "      <td>8.000000</td>\n",
              "      <td>NaN</td>\n",
              "      <td>7250.000000</td>\n",
              "    </tr>\n",
              "  </tbody>\n",
              "</table>\n",
              "</div>"
            ],
            "text/plain": [
              "              Price          bed  ...  sizeFloor      sizeErf\n",
              "count  5.603000e+03  5603.000000  ...        0.0  5603.000000\n",
              "mean   3.618501e+06     3.508388  ...        NaN   611.266464\n",
              "std    2.027204e+06     0.977807  ...        NaN   492.734924\n",
              "min    3.100000e+05     1.000000  ...        NaN    37.000000\n",
              "25%    2.195000e+06     3.000000  ...        NaN   309.000000\n",
              "50%    3.050000e+06     3.000000  ...        NaN   498.000000\n",
              "75%    4.500000e+06     4.000000  ...        NaN   744.000000\n",
              "max    9.999000e+06     8.000000  ...        NaN  7250.000000\n",
              "\n",
              "[8 rows x 6 columns]"
            ]
          },
          "metadata": {
            "tags": []
          },
          "execution_count": 556
        }
      ]
    },
    {
      "cell_type": "code",
      "metadata": {
        "id": "iqnl0_YBldkR",
        "colab_type": "code",
        "colab": {}
      },
      "source": [
        "# Remove rows with missing target, separate target from predictors\n",
        "X_full.dropna(axis=0, subset=['Price'], inplace=True)\n",
        "y = X_full.Price              \n",
        "X_full.drop(['Price'], axis=1, inplace=True)"
      ],
      "execution_count": 557,
      "outputs": []
    },
    {
      "cell_type": "code",
      "metadata": {
        "id": "D4lzmszI0Dit",
        "colab_type": "code",
        "colab": {}
      },
      "source": [
        "# Make copy to avoid changing original data (when imputing)\n",
        "X_test = X_full.copy()"
      ],
      "execution_count": 558,
      "outputs": []
    },
    {
      "cell_type": "code",
      "metadata": {
        "id": "lj4frZULlqYL",
        "colab_type": "code",
        "colab": {
          "base_uri": "https://localhost:8080/",
          "height": 195
        },
        "outputId": "eaf581e6-b48f-48ac-e57d-19252900fb4f"
      },
      "source": [
        "X_test.head()"
      ],
      "execution_count": 421,
      "outputs": [
        {
          "output_type": "execute_result",
          "data": {
            "text/html": [
              "<div>\n",
              "<style scoped>\n",
              "    .dataframe tbody tr th:only-of-type {\n",
              "        vertical-align: middle;\n",
              "    }\n",
              "\n",
              "    .dataframe tbody tr th {\n",
              "        vertical-align: top;\n",
              "    }\n",
              "\n",
              "    .dataframe thead th {\n",
              "        text-align: right;\n",
              "    }\n",
              "</style>\n",
              "<table border=\"1\" class=\"dataframe\">\n",
              "  <thead>\n",
              "    <tr style=\"text-align: right;\">\n",
              "      <th></th>\n",
              "      <th>Acc_type</th>\n",
              "      <th>sub</th>\n",
              "      <th>bed</th>\n",
              "      <th>bath</th>\n",
              "      <th>park</th>\n",
              "      <th>sizeFloor</th>\n",
              "      <th>sizeErf</th>\n",
              "      <th>area</th>\n",
              "    </tr>\n",
              "  </thead>\n",
              "  <tbody>\n",
              "    <tr>\n",
              "      <th>5</th>\n",
              "      <td>Apartment</td>\n",
              "      <td>Philippi East</td>\n",
              "      <td>2.0</td>\n",
              "      <td>1.0</td>\n",
              "      <td>1.0</td>\n",
              "      <td>NaN</td>\n",
              "      <td>NaN</td>\n",
              "      <td>cape-flats</td>\n",
              "    </tr>\n",
              "    <tr>\n",
              "      <th>8</th>\n",
              "      <td>Apartment</td>\n",
              "      <td>Wynberg</td>\n",
              "      <td>1.0</td>\n",
              "      <td>1.0</td>\n",
              "      <td>1.0</td>\n",
              "      <td>30.0</td>\n",
              "      <td>NaN</td>\n",
              "      <td>southern-suburbs</td>\n",
              "    </tr>\n",
              "    <tr>\n",
              "      <th>9</th>\n",
              "      <td>Apartment</td>\n",
              "      <td>Grassy Park</td>\n",
              "      <td>2.0</td>\n",
              "      <td>1.0</td>\n",
              "      <td>1.0</td>\n",
              "      <td>NaN</td>\n",
              "      <td>NaN</td>\n",
              "      <td>southern-suburbs</td>\n",
              "    </tr>\n",
              "    <tr>\n",
              "      <th>10</th>\n",
              "      <td>House</td>\n",
              "      <td>Lwandle</td>\n",
              "      <td>3.0</td>\n",
              "      <td>1.0</td>\n",
              "      <td>1.0</td>\n",
              "      <td>140.0</td>\n",
              "      <td>NaN</td>\n",
              "      <td>strand-gordon</td>\n",
              "    </tr>\n",
              "    <tr>\n",
              "      <th>11</th>\n",
              "      <td>House</td>\n",
              "      <td>Harare</td>\n",
              "      <td>2.0</td>\n",
              "      <td>1.0</td>\n",
              "      <td>2.0</td>\n",
              "      <td>NaN</td>\n",
              "      <td>NaN</td>\n",
              "      <td>cape-flats</td>\n",
              "    </tr>\n",
              "  </tbody>\n",
              "</table>\n",
              "</div>"
            ],
            "text/plain": [
              "     Acc_type            sub  bed  ...  sizeFloor  sizeErf              area\n",
              "5   Apartment  Philippi East  2.0  ...        NaN      NaN        cape-flats\n",
              "8   Apartment        Wynberg  1.0  ...       30.0      NaN  southern-suburbs\n",
              "9   Apartment    Grassy Park  2.0  ...        NaN      NaN  southern-suburbs\n",
              "10      House        Lwandle  3.0  ...      140.0      NaN     strand-gordon\n",
              "11      House         Harare  2.0  ...        NaN      NaN        cape-flats\n",
              "\n",
              "[5 rows x 8 columns]"
            ]
          },
          "metadata": {
            "tags": []
          },
          "execution_count": 421
        }
      ]
    },
    {
      "cell_type": "code",
      "metadata": {
        "id": "Ik8aPIp0Qoe6",
        "colab_type": "code",
        "colab": {
          "base_uri": "https://localhost:8080/",
          "height": 225
        },
        "outputId": "cb26d7e1-0f43-49d1-9d1a-a1536e273f3c"
      },
      "source": [
        "X_test5.corr()"
      ],
      "execution_count": 374,
      "outputs": [
        {
          "output_type": "execute_result",
          "data": {
            "text/html": [
              "<div>\n",
              "<style scoped>\n",
              "    .dataframe tbody tr th:only-of-type {\n",
              "        vertical-align: middle;\n",
              "    }\n",
              "\n",
              "    .dataframe tbody tr th {\n",
              "        vertical-align: top;\n",
              "    }\n",
              "\n",
              "    .dataframe thead th {\n",
              "        text-align: right;\n",
              "    }\n",
              "</style>\n",
              "<table border=\"1\" class=\"dataframe\">\n",
              "  <thead>\n",
              "    <tr style=\"text-align: right;\">\n",
              "      <th></th>\n",
              "      <th>Price</th>\n",
              "      <th>bed</th>\n",
              "      <th>bath</th>\n",
              "      <th>park</th>\n",
              "      <th>sizeFloor</th>\n",
              "      <th>sizeErf</th>\n",
              "    </tr>\n",
              "  </thead>\n",
              "  <tbody>\n",
              "    <tr>\n",
              "      <th>Price</th>\n",
              "      <td>1.000000</td>\n",
              "      <td>0.302131</td>\n",
              "      <td>0.521427</td>\n",
              "      <td>0.286919</td>\n",
              "      <td>0.613818</td>\n",
              "      <td>NaN</td>\n",
              "    </tr>\n",
              "    <tr>\n",
              "      <th>bed</th>\n",
              "      <td>0.302131</td>\n",
              "      <td>1.000000</td>\n",
              "      <td>0.643599</td>\n",
              "      <td>0.418195</td>\n",
              "      <td>0.679147</td>\n",
              "      <td>NaN</td>\n",
              "    </tr>\n",
              "    <tr>\n",
              "      <th>bath</th>\n",
              "      <td>0.521427</td>\n",
              "      <td>0.643599</td>\n",
              "      <td>1.000000</td>\n",
              "      <td>0.452033</td>\n",
              "      <td>0.700167</td>\n",
              "      <td>NaN</td>\n",
              "    </tr>\n",
              "    <tr>\n",
              "      <th>park</th>\n",
              "      <td>0.286919</td>\n",
              "      <td>0.418195</td>\n",
              "      <td>0.452033</td>\n",
              "      <td>1.000000</td>\n",
              "      <td>0.484996</td>\n",
              "      <td>NaN</td>\n",
              "    </tr>\n",
              "    <tr>\n",
              "      <th>sizeFloor</th>\n",
              "      <td>0.613818</td>\n",
              "      <td>0.679147</td>\n",
              "      <td>0.700167</td>\n",
              "      <td>0.484996</td>\n",
              "      <td>1.000000</td>\n",
              "      <td>NaN</td>\n",
              "    </tr>\n",
              "    <tr>\n",
              "      <th>sizeErf</th>\n",
              "      <td>NaN</td>\n",
              "      <td>NaN</td>\n",
              "      <td>NaN</td>\n",
              "      <td>NaN</td>\n",
              "      <td>NaN</td>\n",
              "      <td>NaN</td>\n",
              "    </tr>\n",
              "  </tbody>\n",
              "</table>\n",
              "</div>"
            ],
            "text/plain": [
              "              Price       bed      bath      park  sizeFloor  sizeErf\n",
              "Price      1.000000  0.302131  0.521427  0.286919   0.613818      NaN\n",
              "bed        0.302131  1.000000  0.643599  0.418195   0.679147      NaN\n",
              "bath       0.521427  0.643599  1.000000  0.452033   0.700167      NaN\n",
              "park       0.286919  0.418195  0.452033  1.000000   0.484996      NaN\n",
              "sizeFloor  0.613818  0.679147  0.700167  0.484996   1.000000      NaN\n",
              "sizeErf         NaN       NaN       NaN       NaN        NaN      NaN"
            ]
          },
          "metadata": {
            "tags": []
          },
          "execution_count": 374
        }
      ]
    },
    {
      "cell_type": "markdown",
      "metadata": {
        "id": "OqMHFUaaxdmj",
        "colab_type": "text"
      },
      "source": [
        "Initially, we just replace Nan with 0 in the floor and erf sizes columns."
      ]
    },
    {
      "cell_type": "code",
      "metadata": {
        "id": "GW3iSgZvw7JT",
        "colab_type": "code",
        "colab": {}
      },
      "source": [
        "X_test['sizeFloor'] = X_test['sizeFloor'].fillna(0)"
      ],
      "execution_count": 398,
      "outputs": []
    },
    {
      "cell_type": "code",
      "metadata": {
        "id": "EyI62yvkxG6A",
        "colab_type": "code",
        "colab": {}
      },
      "source": [
        "X_test['sizeErf'] = X_test['sizeErf'].fillna(0)"
      ],
      "execution_count": 399,
      "outputs": []
    },
    {
      "cell_type": "code",
      "metadata": {
        "id": "CzgjoTLExRCR",
        "colab_type": "code",
        "colab": {
          "base_uri": "https://localhost:8080/",
          "height": 195
        },
        "outputId": "5f3375a4-c763-40c5-d18a-0537bce25e08"
      },
      "source": [
        "X_test.head()"
      ],
      "execution_count": 400,
      "outputs": [
        {
          "output_type": "execute_result",
          "data": {
            "text/html": [
              "<div>\n",
              "<style scoped>\n",
              "    .dataframe tbody tr th:only-of-type {\n",
              "        vertical-align: middle;\n",
              "    }\n",
              "\n",
              "    .dataframe tbody tr th {\n",
              "        vertical-align: top;\n",
              "    }\n",
              "\n",
              "    .dataframe thead th {\n",
              "        text-align: right;\n",
              "    }\n",
              "</style>\n",
              "<table border=\"1\" class=\"dataframe\">\n",
              "  <thead>\n",
              "    <tr style=\"text-align: right;\">\n",
              "      <th></th>\n",
              "      <th>Acc_type</th>\n",
              "      <th>sub</th>\n",
              "      <th>bed</th>\n",
              "      <th>bath</th>\n",
              "      <th>park</th>\n",
              "      <th>sizeFloor</th>\n",
              "      <th>sizeErf</th>\n",
              "      <th>area</th>\n",
              "    </tr>\n",
              "  </thead>\n",
              "  <tbody>\n",
              "    <tr>\n",
              "      <th>0</th>\n",
              "      <td>House</td>\n",
              "      <td>Sir Lowrys Pass</td>\n",
              "      <td>1.0</td>\n",
              "      <td>1.0</td>\n",
              "      <td>NaN</td>\n",
              "      <td>0.0</td>\n",
              "      <td>0.0</td>\n",
              "      <td>somerset-west</td>\n",
              "    </tr>\n",
              "    <tr>\n",
              "      <th>1</th>\n",
              "      <td>House</td>\n",
              "      <td>Mandela Park</td>\n",
              "      <td>2.0</td>\n",
              "      <td>1.0</td>\n",
              "      <td>NaN</td>\n",
              "      <td>0.0</td>\n",
              "      <td>113.0</td>\n",
              "      <td>cape-flats</td>\n",
              "    </tr>\n",
              "    <tr>\n",
              "      <th>2</th>\n",
              "      <td>House</td>\n",
              "      <td>Mandela Park</td>\n",
              "      <td>3.0</td>\n",
              "      <td>1.0</td>\n",
              "      <td>NaN</td>\n",
              "      <td>0.0</td>\n",
              "      <td>150.0</td>\n",
              "      <td>cape-flats</td>\n",
              "    </tr>\n",
              "    <tr>\n",
              "      <th>3</th>\n",
              "      <td>House</td>\n",
              "      <td>Broadlands</td>\n",
              "      <td>2.0</td>\n",
              "      <td>1.0</td>\n",
              "      <td>NaN</td>\n",
              "      <td>0.0</td>\n",
              "      <td>270.0</td>\n",
              "      <td>strand-gordon</td>\n",
              "    </tr>\n",
              "    <tr>\n",
              "      <th>4</th>\n",
              "      <td>House</td>\n",
              "      <td>Nonqubela</td>\n",
              "      <td>2.0</td>\n",
              "      <td>1.0</td>\n",
              "      <td>NaN</td>\n",
              "      <td>0.0</td>\n",
              "      <td>78.0</td>\n",
              "      <td>cape-flats</td>\n",
              "    </tr>\n",
              "  </tbody>\n",
              "</table>\n",
              "</div>"
            ],
            "text/plain": [
              "  Acc_type              sub  bed  bath  park  sizeFloor  sizeErf           area\n",
              "0    House  Sir Lowrys Pass  1.0   1.0   NaN        0.0      0.0  somerset-west\n",
              "1    House     Mandela Park  2.0   1.0   NaN        0.0    113.0     cape-flats\n",
              "2    House     Mandela Park  3.0   1.0   NaN        0.0    150.0     cape-flats\n",
              "3    House       Broadlands  2.0   1.0   NaN        0.0    270.0  strand-gordon\n",
              "4    House        Nonqubela  2.0   1.0   NaN        0.0     78.0     cape-flats"
            ]
          },
          "metadata": {
            "tags": []
          },
          "execution_count": 400
        }
      ]
    },
    {
      "cell_type": "markdown",
      "metadata": {
        "id": "f17JcACQHo2P",
        "colab_type": "text"
      },
      "source": [
        "Remove \"park\" because of weird value. Does not improve considerably RMSE: 5607703.4705039365\n"
      ]
    },
    {
      "cell_type": "code",
      "metadata": {
        "id": "iujVtbdQFaQf",
        "colab_type": "code",
        "colab": {}
      },
      "source": [
        "X_test = X_test.drop('park', 1)"
      ],
      "execution_count": null,
      "outputs": []
    },
    {
      "cell_type": "code",
      "metadata": {
        "id": "abtzvwAAFneI",
        "colab_type": "code",
        "colab": {
          "base_uri": "https://localhost:8080/",
          "height": 195
        },
        "outputId": "de30f11e-5e39-4603-af29-bc1c4ef6515f"
      },
      "source": [
        "X_test.head()"
      ],
      "execution_count": null,
      "outputs": [
        {
          "output_type": "execute_result",
          "data": {
            "text/html": [
              "<div>\n",
              "<style scoped>\n",
              "    .dataframe tbody tr th:only-of-type {\n",
              "        vertical-align: middle;\n",
              "    }\n",
              "\n",
              "    .dataframe tbody tr th {\n",
              "        vertical-align: top;\n",
              "    }\n",
              "\n",
              "    .dataframe thead th {\n",
              "        text-align: right;\n",
              "    }\n",
              "</style>\n",
              "<table border=\"1\" class=\"dataframe\">\n",
              "  <thead>\n",
              "    <tr style=\"text-align: right;\">\n",
              "      <th></th>\n",
              "      <th>Acc_type</th>\n",
              "      <th>sub</th>\n",
              "      <th>bed</th>\n",
              "      <th>bath</th>\n",
              "      <th>sizeFloor</th>\n",
              "      <th>sizeErf</th>\n",
              "    </tr>\n",
              "  </thead>\n",
              "  <tbody>\n",
              "    <tr>\n",
              "      <th>0</th>\n",
              "      <td>Apartment</td>\n",
              "      <td>Rondebosch</td>\n",
              "      <td>0.5</td>\n",
              "      <td>1.0</td>\n",
              "      <td>39.0</td>\n",
              "      <td>0.0</td>\n",
              "    </tr>\n",
              "    <tr>\n",
              "      <th>1</th>\n",
              "      <td>Apartment</td>\n",
              "      <td>Cape Town City Centre</td>\n",
              "      <td>4.0</td>\n",
              "      <td>3.0</td>\n",
              "      <td>137.0</td>\n",
              "      <td>0.0</td>\n",
              "    </tr>\n",
              "    <tr>\n",
              "      <th>2</th>\n",
              "      <td>House</td>\n",
              "      <td>Constantia</td>\n",
              "      <td>4.0</td>\n",
              "      <td>3.0</td>\n",
              "      <td>0.0</td>\n",
              "      <td>1992.0</td>\n",
              "    </tr>\n",
              "    <tr>\n",
              "      <th>3</th>\n",
              "      <td>House</td>\n",
              "      <td>Constantia</td>\n",
              "      <td>4.0</td>\n",
              "      <td>3.5</td>\n",
              "      <td>0.0</td>\n",
              "      <td>3999.0</td>\n",
              "    </tr>\n",
              "    <tr>\n",
              "      <th>4</th>\n",
              "      <td>House</td>\n",
              "      <td>Constantia</td>\n",
              "      <td>4.0</td>\n",
              "      <td>4.0</td>\n",
              "      <td>0.0</td>\n",
              "      <td>1992.0</td>\n",
              "    </tr>\n",
              "  </tbody>\n",
              "</table>\n",
              "</div>"
            ],
            "text/plain": [
              "    Acc_type                    sub  bed  bath  sizeFloor  sizeErf\n",
              "0  Apartment             Rondebosch  0.5   1.0       39.0      0.0\n",
              "1  Apartment  Cape Town City Centre  4.0   3.0      137.0      0.0\n",
              "2      House             Constantia  4.0   3.0        0.0   1992.0\n",
              "3      House             Constantia  4.0   3.5        0.0   3999.0\n",
              "4      House             Constantia  4.0   4.0        0.0   1992.0"
            ]
          },
          "metadata": {
            "tags": []
          },
          "execution_count": 138
        }
      ]
    },
    {
      "cell_type": "markdown",
      "metadata": {
        "id": "k9I_gcYZJG6M",
        "colab_type": "text"
      },
      "source": [
        "Other approach: merge sizes: 5503509.257517554"
      ]
    },
    {
      "cell_type": "code",
      "metadata": {
        "id": "Zc3nONJvOwcB",
        "colab_type": "code",
        "colab": {
          "base_uri": "https://localhost:8080/",
          "height": 195
        },
        "outputId": "c7745239-c763-473d-b8db-a77ffbe58bbe"
      },
      "source": [
        "X_test.head()"
      ],
      "execution_count": 455,
      "outputs": [
        {
          "output_type": "execute_result",
          "data": {
            "text/html": [
              "<div>\n",
              "<style scoped>\n",
              "    .dataframe tbody tr th:only-of-type {\n",
              "        vertical-align: middle;\n",
              "    }\n",
              "\n",
              "    .dataframe tbody tr th {\n",
              "        vertical-align: top;\n",
              "    }\n",
              "\n",
              "    .dataframe thead th {\n",
              "        text-align: right;\n",
              "    }\n",
              "</style>\n",
              "<table border=\"1\" class=\"dataframe\">\n",
              "  <thead>\n",
              "    <tr style=\"text-align: right;\">\n",
              "      <th></th>\n",
              "      <th>Acc_type</th>\n",
              "      <th>sub</th>\n",
              "      <th>bed</th>\n",
              "      <th>bath</th>\n",
              "      <th>park</th>\n",
              "      <th>sizeFloor</th>\n",
              "      <th>sizeErf</th>\n",
              "      <th>area</th>\n",
              "    </tr>\n",
              "  </thead>\n",
              "  <tbody>\n",
              "    <tr>\n",
              "      <th>5</th>\n",
              "      <td>Apartment</td>\n",
              "      <td>Philippi East</td>\n",
              "      <td>2.0</td>\n",
              "      <td>1.0</td>\n",
              "      <td>1.0</td>\n",
              "      <td>NaN</td>\n",
              "      <td>NaN</td>\n",
              "      <td>cape-flats</td>\n",
              "    </tr>\n",
              "    <tr>\n",
              "      <th>8</th>\n",
              "      <td>Apartment</td>\n",
              "      <td>Wynberg</td>\n",
              "      <td>1.0</td>\n",
              "      <td>1.0</td>\n",
              "      <td>1.0</td>\n",
              "      <td>30.0</td>\n",
              "      <td>NaN</td>\n",
              "      <td>southern-suburbs</td>\n",
              "    </tr>\n",
              "    <tr>\n",
              "      <th>9</th>\n",
              "      <td>Apartment</td>\n",
              "      <td>Grassy Park</td>\n",
              "      <td>2.0</td>\n",
              "      <td>1.0</td>\n",
              "      <td>1.0</td>\n",
              "      <td>NaN</td>\n",
              "      <td>NaN</td>\n",
              "      <td>southern-suburbs</td>\n",
              "    </tr>\n",
              "    <tr>\n",
              "      <th>10</th>\n",
              "      <td>House</td>\n",
              "      <td>Lwandle</td>\n",
              "      <td>3.0</td>\n",
              "      <td>1.0</td>\n",
              "      <td>1.0</td>\n",
              "      <td>140.0</td>\n",
              "      <td>NaN</td>\n",
              "      <td>strand-gordon</td>\n",
              "    </tr>\n",
              "    <tr>\n",
              "      <th>11</th>\n",
              "      <td>House</td>\n",
              "      <td>Harare</td>\n",
              "      <td>2.0</td>\n",
              "      <td>1.0</td>\n",
              "      <td>2.0</td>\n",
              "      <td>NaN</td>\n",
              "      <td>NaN</td>\n",
              "      <td>cape-flats</td>\n",
              "    </tr>\n",
              "  </tbody>\n",
              "</table>\n",
              "</div>"
            ],
            "text/plain": [
              "     Acc_type            sub  bed  ...  sizeFloor  sizeErf              area\n",
              "5   Apartment  Philippi East  2.0  ...        NaN      NaN        cape-flats\n",
              "8   Apartment        Wynberg  1.0  ...       30.0      NaN  southern-suburbs\n",
              "9   Apartment    Grassy Park  2.0  ...        NaN      NaN  southern-suburbs\n",
              "10      House        Lwandle  3.0  ...      140.0      NaN     strand-gordon\n",
              "11      House         Harare  2.0  ...        NaN      NaN        cape-flats\n",
              "\n",
              "[5 rows x 8 columns]"
            ]
          },
          "metadata": {
            "tags": []
          },
          "execution_count": 455
        }
      ]
    },
    {
      "cell_type": "code",
      "metadata": {
        "id": "aWeI7UXSO0Jn",
        "colab_type": "code",
        "colab": {}
      },
      "source": [
        "# Make copy to avoid changing original data (when imputing)\n",
        "X_test_plus = X_test.copy()"
      ],
      "execution_count": 456,
      "outputs": []
    },
    {
      "cell_type": "code",
      "metadata": {
        "id": "1tYtqBvTO1o3",
        "colab_type": "code",
        "colab": {
          "base_uri": "https://localhost:8080/",
          "height": 195
        },
        "outputId": "9ee4693e-93e8-4e55-a1c3-250aa3b5c7a2"
      },
      "source": [
        "X_test_plus.head()"
      ],
      "execution_count": 457,
      "outputs": [
        {
          "output_type": "execute_result",
          "data": {
            "text/html": [
              "<div>\n",
              "<style scoped>\n",
              "    .dataframe tbody tr th:only-of-type {\n",
              "        vertical-align: middle;\n",
              "    }\n",
              "\n",
              "    .dataframe tbody tr th {\n",
              "        vertical-align: top;\n",
              "    }\n",
              "\n",
              "    .dataframe thead th {\n",
              "        text-align: right;\n",
              "    }\n",
              "</style>\n",
              "<table border=\"1\" class=\"dataframe\">\n",
              "  <thead>\n",
              "    <tr style=\"text-align: right;\">\n",
              "      <th></th>\n",
              "      <th>Acc_type</th>\n",
              "      <th>sub</th>\n",
              "      <th>bed</th>\n",
              "      <th>bath</th>\n",
              "      <th>park</th>\n",
              "      <th>sizeFloor</th>\n",
              "      <th>sizeErf</th>\n",
              "      <th>area</th>\n",
              "    </tr>\n",
              "  </thead>\n",
              "  <tbody>\n",
              "    <tr>\n",
              "      <th>5</th>\n",
              "      <td>Apartment</td>\n",
              "      <td>Philippi East</td>\n",
              "      <td>2.0</td>\n",
              "      <td>1.0</td>\n",
              "      <td>1.0</td>\n",
              "      <td>NaN</td>\n",
              "      <td>NaN</td>\n",
              "      <td>cape-flats</td>\n",
              "    </tr>\n",
              "    <tr>\n",
              "      <th>8</th>\n",
              "      <td>Apartment</td>\n",
              "      <td>Wynberg</td>\n",
              "      <td>1.0</td>\n",
              "      <td>1.0</td>\n",
              "      <td>1.0</td>\n",
              "      <td>30.0</td>\n",
              "      <td>NaN</td>\n",
              "      <td>southern-suburbs</td>\n",
              "    </tr>\n",
              "    <tr>\n",
              "      <th>9</th>\n",
              "      <td>Apartment</td>\n",
              "      <td>Grassy Park</td>\n",
              "      <td>2.0</td>\n",
              "      <td>1.0</td>\n",
              "      <td>1.0</td>\n",
              "      <td>NaN</td>\n",
              "      <td>NaN</td>\n",
              "      <td>southern-suburbs</td>\n",
              "    </tr>\n",
              "    <tr>\n",
              "      <th>10</th>\n",
              "      <td>House</td>\n",
              "      <td>Lwandle</td>\n",
              "      <td>3.0</td>\n",
              "      <td>1.0</td>\n",
              "      <td>1.0</td>\n",
              "      <td>140.0</td>\n",
              "      <td>NaN</td>\n",
              "      <td>strand-gordon</td>\n",
              "    </tr>\n",
              "    <tr>\n",
              "      <th>11</th>\n",
              "      <td>House</td>\n",
              "      <td>Harare</td>\n",
              "      <td>2.0</td>\n",
              "      <td>1.0</td>\n",
              "      <td>2.0</td>\n",
              "      <td>NaN</td>\n",
              "      <td>NaN</td>\n",
              "      <td>cape-flats</td>\n",
              "    </tr>\n",
              "  </tbody>\n",
              "</table>\n",
              "</div>"
            ],
            "text/plain": [
              "     Acc_type            sub  bed  ...  sizeFloor  sizeErf              area\n",
              "5   Apartment  Philippi East  2.0  ...        NaN      NaN        cape-flats\n",
              "8   Apartment        Wynberg  1.0  ...       30.0      NaN  southern-suburbs\n",
              "9   Apartment    Grassy Park  2.0  ...        NaN      NaN  southern-suburbs\n",
              "10      House        Lwandle  3.0  ...      140.0      NaN     strand-gordon\n",
              "11      House         Harare  2.0  ...        NaN      NaN        cape-flats\n",
              "\n",
              "[5 rows x 8 columns]"
            ]
          },
          "metadata": {
            "tags": []
          },
          "execution_count": 457
        }
      ]
    },
    {
      "cell_type": "code",
      "metadata": {
        "id": "m17GNwul-YM4",
        "colab_type": "code",
        "colab": {
          "base_uri": "https://localhost:8080/",
          "height": 34
        },
        "outputId": "65d7d643-8d0b-487c-dc45-541b991ffcf5"
      },
      "source": [
        "len(X_test_plus.index)"
      ],
      "execution_count": 458,
      "outputs": [
        {
          "output_type": "execute_result",
          "data": {
            "text/plain": [
              "12880"
            ]
          },
          "metadata": {
            "tags": []
          },
          "execution_count": 458
        }
      ]
    },
    {
      "cell_type": "code",
      "metadata": {
        "id": "oPggHLVbIzGn",
        "colab_type": "code",
        "colab": {
          "base_uri": "https://localhost:8080/",
          "height": 52
        },
        "outputId": "568375a3-bccf-4e41-9f97-c83e5ea4138b"
      },
      "source": [
        "import numpy as np\n",
        "\n",
        "for i in X_test_plus.index:\n",
        "  if pd.notnull(X_test_plus.loc[i,'sizeFloor']):\n",
        "      X_test_plus.loc[i,'Size_select'] = 1\n",
        "  elif pd.notnull(X_test_plus.loc[i,'sizeErf']):\n",
        "      X_test_plus.loc[i,'Size_select'] = 2\n",
        "  else:\n",
        "      X_test_plus.loc[i,'Size_select'] = 0    \n",
        "'''\n",
        "X_test_plus['Size_select'] = np.where(pd.notnull(),\n",
        "         1,\n",
        "         np.where((df.b == \"N\")&(~df.c.isnull()),\n",
        "                  df.a*df.c,\n",
        "                  df.a))\n",
        "pd.notnull(df.c)\n",
        "X_test_plus.SizeFloor\n",
        "'''"
      ],
      "execution_count": 459,
      "outputs": [
        {
          "output_type": "execute_result",
          "data": {
            "application/vnd.google.colaboratory.intrinsic+json": {
              "type": "string"
            },
            "text/plain": [
              "'\\nX_test_plus[\\'Size_select\\'] = np.where(pd.notnull(),\\n         1,\\n         np.where((df.b == \"N\")&(~df.c.isnull()),\\n                  df.a*df.c,\\n                  df.a))\\npd.notnull(df.c)\\nX_test_plus.SizeFloor\\n'"
            ]
          },
          "metadata": {
            "tags": []
          },
          "execution_count": 459
        }
      ]
    },
    {
      "cell_type": "code",
      "metadata": {
        "id": "FzZL2jeSPOPP",
        "colab_type": "code",
        "colab": {
          "base_uri": "https://localhost:8080/",
          "height": 402
        },
        "outputId": "0b49524b-b73a-496b-9b91-374a240f3fb4"
      },
      "source": [
        "X_test_plus"
      ],
      "execution_count": 460,
      "outputs": [
        {
          "output_type": "execute_result",
          "data": {
            "text/html": [
              "<div>\n",
              "<style scoped>\n",
              "    .dataframe tbody tr th:only-of-type {\n",
              "        vertical-align: middle;\n",
              "    }\n",
              "\n",
              "    .dataframe tbody tr th {\n",
              "        vertical-align: top;\n",
              "    }\n",
              "\n",
              "    .dataframe thead th {\n",
              "        text-align: right;\n",
              "    }\n",
              "</style>\n",
              "<table border=\"1\" class=\"dataframe\">\n",
              "  <thead>\n",
              "    <tr style=\"text-align: right;\">\n",
              "      <th></th>\n",
              "      <th>Acc_type</th>\n",
              "      <th>sub</th>\n",
              "      <th>bed</th>\n",
              "      <th>bath</th>\n",
              "      <th>park</th>\n",
              "      <th>sizeFloor</th>\n",
              "      <th>sizeErf</th>\n",
              "      <th>area</th>\n",
              "      <th>Size_select</th>\n",
              "    </tr>\n",
              "  </thead>\n",
              "  <tbody>\n",
              "    <tr>\n",
              "      <th>5</th>\n",
              "      <td>Apartment</td>\n",
              "      <td>Philippi East</td>\n",
              "      <td>2.0</td>\n",
              "      <td>1.0</td>\n",
              "      <td>1.0</td>\n",
              "      <td>NaN</td>\n",
              "      <td>NaN</td>\n",
              "      <td>cape-flats</td>\n",
              "      <td>0.0</td>\n",
              "    </tr>\n",
              "    <tr>\n",
              "      <th>8</th>\n",
              "      <td>Apartment</td>\n",
              "      <td>Wynberg</td>\n",
              "      <td>1.0</td>\n",
              "      <td>1.0</td>\n",
              "      <td>1.0</td>\n",
              "      <td>30.0</td>\n",
              "      <td>NaN</td>\n",
              "      <td>southern-suburbs</td>\n",
              "      <td>1.0</td>\n",
              "    </tr>\n",
              "    <tr>\n",
              "      <th>9</th>\n",
              "      <td>Apartment</td>\n",
              "      <td>Grassy Park</td>\n",
              "      <td>2.0</td>\n",
              "      <td>1.0</td>\n",
              "      <td>1.0</td>\n",
              "      <td>NaN</td>\n",
              "      <td>NaN</td>\n",
              "      <td>southern-suburbs</td>\n",
              "      <td>0.0</td>\n",
              "    </tr>\n",
              "    <tr>\n",
              "      <th>10</th>\n",
              "      <td>House</td>\n",
              "      <td>Lwandle</td>\n",
              "      <td>3.0</td>\n",
              "      <td>1.0</td>\n",
              "      <td>1.0</td>\n",
              "      <td>140.0</td>\n",
              "      <td>NaN</td>\n",
              "      <td>strand-gordon</td>\n",
              "      <td>1.0</td>\n",
              "    </tr>\n",
              "    <tr>\n",
              "      <th>11</th>\n",
              "      <td>House</td>\n",
              "      <td>Harare</td>\n",
              "      <td>2.0</td>\n",
              "      <td>1.0</td>\n",
              "      <td>2.0</td>\n",
              "      <td>NaN</td>\n",
              "      <td>NaN</td>\n",
              "      <td>cape-flats</td>\n",
              "      <td>0.0</td>\n",
              "    </tr>\n",
              "    <tr>\n",
              "      <th>...</th>\n",
              "      <td>...</td>\n",
              "      <td>...</td>\n",
              "      <td>...</td>\n",
              "      <td>...</td>\n",
              "      <td>...</td>\n",
              "      <td>...</td>\n",
              "      <td>...</td>\n",
              "      <td>...</td>\n",
              "      <td>...</td>\n",
              "    </tr>\n",
              "    <tr>\n",
              "      <th>15336</th>\n",
              "      <td>House</td>\n",
              "      <td>Clara Anna Fontein</td>\n",
              "      <td>5.0</td>\n",
              "      <td>5.5</td>\n",
              "      <td>4.0</td>\n",
              "      <td>NaN</td>\n",
              "      <td>1040.0</td>\n",
              "      <td>northern-suburbs</td>\n",
              "      <td>2.0</td>\n",
              "    </tr>\n",
              "    <tr>\n",
              "      <th>15337</th>\n",
              "      <td>House</td>\n",
              "      <td>Silvertree Estate</td>\n",
              "      <td>5.0</td>\n",
              "      <td>5.5</td>\n",
              "      <td>3.0</td>\n",
              "      <td>NaN</td>\n",
              "      <td>654.0</td>\n",
              "      <td>southern-suburbs</td>\n",
              "      <td>2.0</td>\n",
              "    </tr>\n",
              "    <tr>\n",
              "      <th>15338</th>\n",
              "      <td>House</td>\n",
              "      <td>La Concorde</td>\n",
              "      <td>5.0</td>\n",
              "      <td>6.0</td>\n",
              "      <td>8.0</td>\n",
              "      <td>NaN</td>\n",
              "      <td>1539.0</td>\n",
              "      <td>somerset-west</td>\n",
              "      <td>2.0</td>\n",
              "    </tr>\n",
              "    <tr>\n",
              "      <th>15343</th>\n",
              "      <td>House</td>\n",
              "      <td>Bel'aire</td>\n",
              "      <td>6.0</td>\n",
              "      <td>5.5</td>\n",
              "      <td>6.0</td>\n",
              "      <td>NaN</td>\n",
              "      <td>1435.0</td>\n",
              "      <td>somerset-west</td>\n",
              "      <td>2.0</td>\n",
              "    </tr>\n",
              "    <tr>\n",
              "      <th>15344</th>\n",
              "      <td>Apartment</td>\n",
              "      <td>Camps Bay</td>\n",
              "      <td>3.0</td>\n",
              "      <td>3.5</td>\n",
              "      <td>2.0</td>\n",
              "      <td>NaN</td>\n",
              "      <td>NaN</td>\n",
              "      <td>atlantic-seaboard</td>\n",
              "      <td>0.0</td>\n",
              "    </tr>\n",
              "  </tbody>\n",
              "</table>\n",
              "<p>12880 rows × 9 columns</p>\n",
              "</div>"
            ],
            "text/plain": [
              "        Acc_type                 sub  ...               area  Size_select\n",
              "5      Apartment       Philippi East  ...         cape-flats          0.0\n",
              "8      Apartment             Wynberg  ...   southern-suburbs          1.0\n",
              "9      Apartment         Grassy Park  ...   southern-suburbs          0.0\n",
              "10         House             Lwandle  ...      strand-gordon          1.0\n",
              "11         House              Harare  ...         cape-flats          0.0\n",
              "...          ...                 ...  ...                ...          ...\n",
              "15336      House  Clara Anna Fontein  ...   northern-suburbs          2.0\n",
              "15337      House   Silvertree Estate  ...   southern-suburbs          2.0\n",
              "15338      House         La Concorde  ...      somerset-west          2.0\n",
              "15343      House            Bel'aire  ...      somerset-west          2.0\n",
              "15344  Apartment           Camps Bay  ...  atlantic-seaboard          0.0\n",
              "\n",
              "[12880 rows x 9 columns]"
            ]
          },
          "metadata": {
            "tags": []
          },
          "execution_count": 460
        }
      ]
    },
    {
      "cell_type": "code",
      "metadata": {
        "id": "2yMJJh3xWRhY",
        "colab_type": "code",
        "colab": {}
      },
      "source": [
        "for i in X_test_plus.index:\n",
        "  if pd.isnull(X_test_plus.loc[i,'Size_select']):\n",
        "    print(X_test_plus.loc[i,'Size_select'])"
      ],
      "execution_count": 461,
      "outputs": []
    },
    {
      "cell_type": "code",
      "metadata": {
        "id": "K7WVd_ByXCDn",
        "colab_type": "code",
        "colab": {
          "base_uri": "https://localhost:8080/",
          "height": 34
        },
        "outputId": "1cf12750-c760-482e-c40f-0f5a9ecc2278"
      },
      "source": [
        "X_test_plus.Size_select.astype(bool).sum(axis=0)"
      ],
      "execution_count": 462,
      "outputs": [
        {
          "output_type": "execute_result",
          "data": {
            "text/plain": [
              "12069"
            ]
          },
          "metadata": {
            "tags": []
          },
          "execution_count": 462
        }
      ]
    },
    {
      "cell_type": "code",
      "metadata": {
        "id": "B_sfFiizXIRU",
        "colab_type": "code",
        "colab": {
          "base_uri": "https://localhost:8080/",
          "height": 34
        },
        "outputId": "fa9459cf-8877-4b3d-c6eb-2ca57e7f0ed4"
      },
      "source": [
        "len(X_test_plus.index)"
      ],
      "execution_count": 463,
      "outputs": [
        {
          "output_type": "execute_result",
          "data": {
            "text/plain": [
              "12880"
            ]
          },
          "metadata": {
            "tags": []
          },
          "execution_count": 463
        }
      ]
    },
    {
      "cell_type": "code",
      "metadata": {
        "id": "9FgWiqDUXg1j",
        "colab_type": "code",
        "colab": {}
      },
      "source": [
        "X_test_plus.sizeErf.fillna(0, inplace=True)\n",
        "X_test_plus.sizeFloor.fillna(0, inplace=True)\n",
        "X_test_plus[\"Size\"] = X_test_plus[\"sizeFloor\"] + X_test_plus[\"sizeErf\"]"
      ],
      "execution_count": 464,
      "outputs": []
    },
    {
      "cell_type": "code",
      "metadata": {
        "id": "LXawEVA9XpW7",
        "colab_type": "code",
        "colab": {
          "base_uri": "https://localhost:8080/",
          "height": 195
        },
        "outputId": "d9b6a72a-d803-42a9-a092-2904c83b44da"
      },
      "source": [
        "X_test_plus.head()"
      ],
      "execution_count": 465,
      "outputs": [
        {
          "output_type": "execute_result",
          "data": {
            "text/html": [
              "<div>\n",
              "<style scoped>\n",
              "    .dataframe tbody tr th:only-of-type {\n",
              "        vertical-align: middle;\n",
              "    }\n",
              "\n",
              "    .dataframe tbody tr th {\n",
              "        vertical-align: top;\n",
              "    }\n",
              "\n",
              "    .dataframe thead th {\n",
              "        text-align: right;\n",
              "    }\n",
              "</style>\n",
              "<table border=\"1\" class=\"dataframe\">\n",
              "  <thead>\n",
              "    <tr style=\"text-align: right;\">\n",
              "      <th></th>\n",
              "      <th>Acc_type</th>\n",
              "      <th>sub</th>\n",
              "      <th>bed</th>\n",
              "      <th>bath</th>\n",
              "      <th>park</th>\n",
              "      <th>sizeFloor</th>\n",
              "      <th>sizeErf</th>\n",
              "      <th>area</th>\n",
              "      <th>Size_select</th>\n",
              "      <th>Size</th>\n",
              "    </tr>\n",
              "  </thead>\n",
              "  <tbody>\n",
              "    <tr>\n",
              "      <th>5</th>\n",
              "      <td>Apartment</td>\n",
              "      <td>Philippi East</td>\n",
              "      <td>2.0</td>\n",
              "      <td>1.0</td>\n",
              "      <td>1.0</td>\n",
              "      <td>0.0</td>\n",
              "      <td>0.0</td>\n",
              "      <td>cape-flats</td>\n",
              "      <td>0.0</td>\n",
              "      <td>0.0</td>\n",
              "    </tr>\n",
              "    <tr>\n",
              "      <th>8</th>\n",
              "      <td>Apartment</td>\n",
              "      <td>Wynberg</td>\n",
              "      <td>1.0</td>\n",
              "      <td>1.0</td>\n",
              "      <td>1.0</td>\n",
              "      <td>30.0</td>\n",
              "      <td>0.0</td>\n",
              "      <td>southern-suburbs</td>\n",
              "      <td>1.0</td>\n",
              "      <td>30.0</td>\n",
              "    </tr>\n",
              "    <tr>\n",
              "      <th>9</th>\n",
              "      <td>Apartment</td>\n",
              "      <td>Grassy Park</td>\n",
              "      <td>2.0</td>\n",
              "      <td>1.0</td>\n",
              "      <td>1.0</td>\n",
              "      <td>0.0</td>\n",
              "      <td>0.0</td>\n",
              "      <td>southern-suburbs</td>\n",
              "      <td>0.0</td>\n",
              "      <td>0.0</td>\n",
              "    </tr>\n",
              "    <tr>\n",
              "      <th>10</th>\n",
              "      <td>House</td>\n",
              "      <td>Lwandle</td>\n",
              "      <td>3.0</td>\n",
              "      <td>1.0</td>\n",
              "      <td>1.0</td>\n",
              "      <td>140.0</td>\n",
              "      <td>0.0</td>\n",
              "      <td>strand-gordon</td>\n",
              "      <td>1.0</td>\n",
              "      <td>140.0</td>\n",
              "    </tr>\n",
              "    <tr>\n",
              "      <th>11</th>\n",
              "      <td>House</td>\n",
              "      <td>Harare</td>\n",
              "      <td>2.0</td>\n",
              "      <td>1.0</td>\n",
              "      <td>2.0</td>\n",
              "      <td>0.0</td>\n",
              "      <td>0.0</td>\n",
              "      <td>cape-flats</td>\n",
              "      <td>0.0</td>\n",
              "      <td>0.0</td>\n",
              "    </tr>\n",
              "  </tbody>\n",
              "</table>\n",
              "</div>"
            ],
            "text/plain": [
              "     Acc_type            sub  bed  ...              area  Size_select   Size\n",
              "5   Apartment  Philippi East  2.0  ...        cape-flats          0.0    0.0\n",
              "8   Apartment        Wynberg  1.0  ...  southern-suburbs          1.0   30.0\n",
              "9   Apartment    Grassy Park  2.0  ...  southern-suburbs          0.0    0.0\n",
              "10      House        Lwandle  3.0  ...     strand-gordon          1.0  140.0\n",
              "11      House         Harare  2.0  ...        cape-flats          0.0    0.0\n",
              "\n",
              "[5 rows x 10 columns]"
            ]
          },
          "metadata": {
            "tags": []
          },
          "execution_count": 465
        }
      ]
    },
    {
      "cell_type": "markdown",
      "metadata": {
        "id": "v34sXtdY0hQP",
        "colab_type": "text"
      },
      "source": [
        "Consider removing when size = 0, or changing to \"nan\""
      ]
    },
    {
      "cell_type": "code",
      "metadata": {
        "id": "IlHHa6wmY0QS",
        "colab_type": "code",
        "colab": {}
      },
      "source": [
        "X_test_plus = X_test_plus.drop('sizeErf', 1)\n",
        "X_test_plus = X_test_plus.drop('sizeFloor', 1)"
      ],
      "execution_count": 466,
      "outputs": []
    },
    {
      "cell_type": "code",
      "metadata": {
        "id": "N4a81QCPZElz",
        "colab_type": "code",
        "colab": {
          "base_uri": "https://localhost:8080/",
          "height": 195
        },
        "outputId": "f206af94-6f79-49f3-a775-c99eb1061425"
      },
      "source": [
        "X_test_plus.head()"
      ],
      "execution_count": 467,
      "outputs": [
        {
          "output_type": "execute_result",
          "data": {
            "text/html": [
              "<div>\n",
              "<style scoped>\n",
              "    .dataframe tbody tr th:only-of-type {\n",
              "        vertical-align: middle;\n",
              "    }\n",
              "\n",
              "    .dataframe tbody tr th {\n",
              "        vertical-align: top;\n",
              "    }\n",
              "\n",
              "    .dataframe thead th {\n",
              "        text-align: right;\n",
              "    }\n",
              "</style>\n",
              "<table border=\"1\" class=\"dataframe\">\n",
              "  <thead>\n",
              "    <tr style=\"text-align: right;\">\n",
              "      <th></th>\n",
              "      <th>Acc_type</th>\n",
              "      <th>sub</th>\n",
              "      <th>bed</th>\n",
              "      <th>bath</th>\n",
              "      <th>park</th>\n",
              "      <th>area</th>\n",
              "      <th>Size_select</th>\n",
              "      <th>Size</th>\n",
              "    </tr>\n",
              "  </thead>\n",
              "  <tbody>\n",
              "    <tr>\n",
              "      <th>5</th>\n",
              "      <td>Apartment</td>\n",
              "      <td>Philippi East</td>\n",
              "      <td>2.0</td>\n",
              "      <td>1.0</td>\n",
              "      <td>1.0</td>\n",
              "      <td>cape-flats</td>\n",
              "      <td>0.0</td>\n",
              "      <td>0.0</td>\n",
              "    </tr>\n",
              "    <tr>\n",
              "      <th>8</th>\n",
              "      <td>Apartment</td>\n",
              "      <td>Wynberg</td>\n",
              "      <td>1.0</td>\n",
              "      <td>1.0</td>\n",
              "      <td>1.0</td>\n",
              "      <td>southern-suburbs</td>\n",
              "      <td>1.0</td>\n",
              "      <td>30.0</td>\n",
              "    </tr>\n",
              "    <tr>\n",
              "      <th>9</th>\n",
              "      <td>Apartment</td>\n",
              "      <td>Grassy Park</td>\n",
              "      <td>2.0</td>\n",
              "      <td>1.0</td>\n",
              "      <td>1.0</td>\n",
              "      <td>southern-suburbs</td>\n",
              "      <td>0.0</td>\n",
              "      <td>0.0</td>\n",
              "    </tr>\n",
              "    <tr>\n",
              "      <th>10</th>\n",
              "      <td>House</td>\n",
              "      <td>Lwandle</td>\n",
              "      <td>3.0</td>\n",
              "      <td>1.0</td>\n",
              "      <td>1.0</td>\n",
              "      <td>strand-gordon</td>\n",
              "      <td>1.0</td>\n",
              "      <td>140.0</td>\n",
              "    </tr>\n",
              "    <tr>\n",
              "      <th>11</th>\n",
              "      <td>House</td>\n",
              "      <td>Harare</td>\n",
              "      <td>2.0</td>\n",
              "      <td>1.0</td>\n",
              "      <td>2.0</td>\n",
              "      <td>cape-flats</td>\n",
              "      <td>0.0</td>\n",
              "      <td>0.0</td>\n",
              "    </tr>\n",
              "  </tbody>\n",
              "</table>\n",
              "</div>"
            ],
            "text/plain": [
              "     Acc_type            sub  bed  ...              area  Size_select   Size\n",
              "5   Apartment  Philippi East  2.0  ...        cape-flats          0.0    0.0\n",
              "8   Apartment        Wynberg  1.0  ...  southern-suburbs          1.0   30.0\n",
              "9   Apartment    Grassy Park  2.0  ...  southern-suburbs          0.0    0.0\n",
              "10      House        Lwandle  3.0  ...     strand-gordon          1.0  140.0\n",
              "11      House         Harare  2.0  ...        cape-flats          0.0    0.0\n",
              "\n",
              "[5 rows x 8 columns]"
            ]
          },
          "metadata": {
            "tags": []
          },
          "execution_count": 467
        }
      ]
    },
    {
      "cell_type": "markdown",
      "metadata": {
        "id": "WOrCD8hpbIds",
        "colab_type": "text"
      },
      "source": [
        "Drop sub column with sizes merged:\n",
        "Random Forest : 3807190.167069573\n",
        "XGBoost : 3657114.2022407562\n"
      ]
    },
    {
      "cell_type": "code",
      "metadata": {
        "id": "dN5XJZ2xbIDl",
        "colab_type": "code",
        "colab": {}
      },
      "source": [
        "X_test_plus = X_test_plus.drop('sub', 1)"
      ],
      "execution_count": 468,
      "outputs": []
    },
    {
      "cell_type": "code",
      "metadata": {
        "id": "5TQYIGdAl40q",
        "colab_type": "code",
        "colab": {}
      },
      "source": [
        "X_test = X_test.drop('sub', 1)"
      ],
      "execution_count": 559,
      "outputs": []
    },
    {
      "cell_type": "code",
      "metadata": {
        "id": "GelD4uddpAu-",
        "colab_type": "code",
        "colab": {}
      },
      "source": [
        "X_test = X_test.drop('sizeFloor', 1)"
      ],
      "execution_count": 560,
      "outputs": []
    },
    {
      "cell_type": "code",
      "metadata": {
        "id": "p-2CIVL0l7PR",
        "colab_type": "code",
        "colab": {
          "base_uri": "https://localhost:8080/",
          "height": 195
        },
        "outputId": "eb3c7c51-e71c-4325-a6b0-b164a8764d16"
      },
      "source": [
        "X_test.head()"
      ],
      "execution_count": 561,
      "outputs": [
        {
          "output_type": "execute_result",
          "data": {
            "text/html": [
              "<div>\n",
              "<style scoped>\n",
              "    .dataframe tbody tr th:only-of-type {\n",
              "        vertical-align: middle;\n",
              "    }\n",
              "\n",
              "    .dataframe tbody tr th {\n",
              "        vertical-align: top;\n",
              "    }\n",
              "\n",
              "    .dataframe thead th {\n",
              "        text-align: right;\n",
              "    }\n",
              "</style>\n",
              "<table border=\"1\" class=\"dataframe\">\n",
              "  <thead>\n",
              "    <tr style=\"text-align: right;\">\n",
              "      <th></th>\n",
              "      <th>Acc_type</th>\n",
              "      <th>bed</th>\n",
              "      <th>bath</th>\n",
              "      <th>park</th>\n",
              "      <th>sizeErf</th>\n",
              "      <th>area</th>\n",
              "    </tr>\n",
              "  </thead>\n",
              "  <tbody>\n",
              "    <tr>\n",
              "      <th>12</th>\n",
              "      <td>House</td>\n",
              "      <td>2.0</td>\n",
              "      <td>1.0</td>\n",
              "      <td>1.0</td>\n",
              "      <td>204.0</td>\n",
              "      <td>strand-gordon</td>\n",
              "    </tr>\n",
              "    <tr>\n",
              "      <th>21</th>\n",
              "      <td>House</td>\n",
              "      <td>2.0</td>\n",
              "      <td>1.0</td>\n",
              "      <td>1.0</td>\n",
              "      <td>213.0</td>\n",
              "      <td>cape-flats</td>\n",
              "    </tr>\n",
              "    <tr>\n",
              "      <th>25</th>\n",
              "      <td>House</td>\n",
              "      <td>2.0</td>\n",
              "      <td>1.0</td>\n",
              "      <td>1.0</td>\n",
              "      <td>130.0</td>\n",
              "      <td>cape-flats</td>\n",
              "    </tr>\n",
              "    <tr>\n",
              "      <th>31</th>\n",
              "      <td>House</td>\n",
              "      <td>3.0</td>\n",
              "      <td>1.0</td>\n",
              "      <td>1.0</td>\n",
              "      <td>237.0</td>\n",
              "      <td>cape-flats</td>\n",
              "    </tr>\n",
              "    <tr>\n",
              "      <th>43</th>\n",
              "      <td>House</td>\n",
              "      <td>3.0</td>\n",
              "      <td>1.0</td>\n",
              "      <td>1.0</td>\n",
              "      <td>199.0</td>\n",
              "      <td>cape-flats</td>\n",
              "    </tr>\n",
              "  </tbody>\n",
              "</table>\n",
              "</div>"
            ],
            "text/plain": [
              "   Acc_type  bed  bath  park  sizeErf           area\n",
              "12    House  2.0   1.0   1.0    204.0  strand-gordon\n",
              "21    House  2.0   1.0   1.0    213.0     cape-flats\n",
              "25    House  2.0   1.0   1.0    130.0     cape-flats\n",
              "31    House  3.0   1.0   1.0    237.0     cape-flats\n",
              "43    House  3.0   1.0   1.0    199.0     cape-flats"
            ]
          },
          "metadata": {
            "tags": []
          },
          "execution_count": 561
        }
      ]
    },
    {
      "cell_type": "code",
      "metadata": {
        "id": "DCGJxYo4LDMA",
        "colab_type": "code",
        "colab": {
          "base_uri": "https://localhost:8080/",
          "height": 195
        },
        "outputId": "bafc76bf-1c14-4746-b9ec-07d220b93535"
      },
      "source": [
        "X_test_plus.head()"
      ],
      "execution_count": 469,
      "outputs": [
        {
          "output_type": "execute_result",
          "data": {
            "text/html": [
              "<div>\n",
              "<style scoped>\n",
              "    .dataframe tbody tr th:only-of-type {\n",
              "        vertical-align: middle;\n",
              "    }\n",
              "\n",
              "    .dataframe tbody tr th {\n",
              "        vertical-align: top;\n",
              "    }\n",
              "\n",
              "    .dataframe thead th {\n",
              "        text-align: right;\n",
              "    }\n",
              "</style>\n",
              "<table border=\"1\" class=\"dataframe\">\n",
              "  <thead>\n",
              "    <tr style=\"text-align: right;\">\n",
              "      <th></th>\n",
              "      <th>Acc_type</th>\n",
              "      <th>bed</th>\n",
              "      <th>bath</th>\n",
              "      <th>park</th>\n",
              "      <th>area</th>\n",
              "      <th>Size_select</th>\n",
              "      <th>Size</th>\n",
              "    </tr>\n",
              "  </thead>\n",
              "  <tbody>\n",
              "    <tr>\n",
              "      <th>5</th>\n",
              "      <td>Apartment</td>\n",
              "      <td>2.0</td>\n",
              "      <td>1.0</td>\n",
              "      <td>1.0</td>\n",
              "      <td>cape-flats</td>\n",
              "      <td>0.0</td>\n",
              "      <td>0.0</td>\n",
              "    </tr>\n",
              "    <tr>\n",
              "      <th>8</th>\n",
              "      <td>Apartment</td>\n",
              "      <td>1.0</td>\n",
              "      <td>1.0</td>\n",
              "      <td>1.0</td>\n",
              "      <td>southern-suburbs</td>\n",
              "      <td>1.0</td>\n",
              "      <td>30.0</td>\n",
              "    </tr>\n",
              "    <tr>\n",
              "      <th>9</th>\n",
              "      <td>Apartment</td>\n",
              "      <td>2.0</td>\n",
              "      <td>1.0</td>\n",
              "      <td>1.0</td>\n",
              "      <td>southern-suburbs</td>\n",
              "      <td>0.0</td>\n",
              "      <td>0.0</td>\n",
              "    </tr>\n",
              "    <tr>\n",
              "      <th>10</th>\n",
              "      <td>House</td>\n",
              "      <td>3.0</td>\n",
              "      <td>1.0</td>\n",
              "      <td>1.0</td>\n",
              "      <td>strand-gordon</td>\n",
              "      <td>1.0</td>\n",
              "      <td>140.0</td>\n",
              "    </tr>\n",
              "    <tr>\n",
              "      <th>11</th>\n",
              "      <td>House</td>\n",
              "      <td>2.0</td>\n",
              "      <td>1.0</td>\n",
              "      <td>2.0</td>\n",
              "      <td>cape-flats</td>\n",
              "      <td>0.0</td>\n",
              "      <td>0.0</td>\n",
              "    </tr>\n",
              "  </tbody>\n",
              "</table>\n",
              "</div>"
            ],
            "text/plain": [
              "     Acc_type  bed  bath  park              area  Size_select   Size\n",
              "5   Apartment  2.0   1.0   1.0        cape-flats          0.0    0.0\n",
              "8   Apartment  1.0   1.0   1.0  southern-suburbs          1.0   30.0\n",
              "9   Apartment  2.0   1.0   1.0  southern-suburbs          0.0    0.0\n",
              "10      House  3.0   1.0   1.0     strand-gordon          1.0  140.0\n",
              "11      House  2.0   1.0   2.0        cape-flats          0.0    0.0"
            ]
          },
          "metadata": {
            "tags": []
          },
          "execution_count": 469
        }
      ]
    },
    {
      "cell_type": "code",
      "metadata": {
        "id": "TFaAU5qxLIGV",
        "colab_type": "code",
        "colab": {}
      },
      "source": [
        "X_test_plus = X_test_plus.drop('sizeErf', 1)"
      ],
      "execution_count": 363,
      "outputs": []
    },
    {
      "cell_type": "code",
      "metadata": {
        "id": "myg1GfOgdK5R",
        "colab_type": "code",
        "colab": {
          "base_uri": "https://localhost:8080/",
          "height": 195
        },
        "outputId": "db9c1504-66c5-43c4-99f3-44f90cb33423"
      },
      "source": [
        "X_test_plus.head()"
      ],
      "execution_count": 364,
      "outputs": [
        {
          "output_type": "execute_result",
          "data": {
            "text/html": [
              "<div>\n",
              "<style scoped>\n",
              "    .dataframe tbody tr th:only-of-type {\n",
              "        vertical-align: middle;\n",
              "    }\n",
              "\n",
              "    .dataframe tbody tr th {\n",
              "        vertical-align: top;\n",
              "    }\n",
              "\n",
              "    .dataframe thead th {\n",
              "        text-align: right;\n",
              "    }\n",
              "</style>\n",
              "<table border=\"1\" class=\"dataframe\">\n",
              "  <thead>\n",
              "    <tr style=\"text-align: right;\">\n",
              "      <th></th>\n",
              "      <th>Acc_type</th>\n",
              "      <th>bed</th>\n",
              "      <th>bath</th>\n",
              "      <th>park</th>\n",
              "      <th>sizeFloor</th>\n",
              "      <th>area</th>\n",
              "    </tr>\n",
              "  </thead>\n",
              "  <tbody>\n",
              "    <tr>\n",
              "      <th>8</th>\n",
              "      <td>Apartment</td>\n",
              "      <td>1.0</td>\n",
              "      <td>1.0</td>\n",
              "      <td>1.0</td>\n",
              "      <td>30.0</td>\n",
              "      <td>southern-suburbs</td>\n",
              "    </tr>\n",
              "    <tr>\n",
              "      <th>10</th>\n",
              "      <td>House</td>\n",
              "      <td>3.0</td>\n",
              "      <td>1.0</td>\n",
              "      <td>1.0</td>\n",
              "      <td>140.0</td>\n",
              "      <td>strand-gordon</td>\n",
              "    </tr>\n",
              "    <tr>\n",
              "      <th>16</th>\n",
              "      <td>Apartment</td>\n",
              "      <td>1.0</td>\n",
              "      <td>1.0</td>\n",
              "      <td>1.0</td>\n",
              "      <td>38.0</td>\n",
              "      <td>northern-suburbs</td>\n",
              "    </tr>\n",
              "    <tr>\n",
              "      <th>26</th>\n",
              "      <td>Apartment</td>\n",
              "      <td>1.0</td>\n",
              "      <td>1.0</td>\n",
              "      <td>1.0</td>\n",
              "      <td>35.0</td>\n",
              "      <td>northern-suburbs</td>\n",
              "    </tr>\n",
              "    <tr>\n",
              "      <th>27</th>\n",
              "      <td>Apartment</td>\n",
              "      <td>1.0</td>\n",
              "      <td>1.0</td>\n",
              "      <td>1.0</td>\n",
              "      <td>30.0</td>\n",
              "      <td>southern-suburbs</td>\n",
              "    </tr>\n",
              "  </tbody>\n",
              "</table>\n",
              "</div>"
            ],
            "text/plain": [
              "     Acc_type  bed  bath  park  sizeFloor              area\n",
              "8   Apartment  1.0   1.0   1.0       30.0  southern-suburbs\n",
              "10      House  3.0   1.0   1.0      140.0     strand-gordon\n",
              "16  Apartment  1.0   1.0   1.0       38.0  northern-suburbs\n",
              "26  Apartment  1.0   1.0   1.0       35.0  northern-suburbs\n",
              "27  Apartment  1.0   1.0   1.0       30.0  southern-suburbs"
            ]
          },
          "metadata": {
            "tags": []
          },
          "execution_count": 364
        }
      ]
    },
    {
      "cell_type": "code",
      "metadata": {
        "id": "_ivldkpm_ikN",
        "colab_type": "code",
        "colab": {}
      },
      "source": [
        "X_test_plus.Size.replace(0, np.nan, inplace=True)"
      ],
      "execution_count": 470,
      "outputs": []
    },
    {
      "cell_type": "code",
      "metadata": {
        "id": "tJL1PFCb_vaP",
        "colab_type": "code",
        "colab": {
          "base_uri": "https://localhost:8080/",
          "height": 195
        },
        "outputId": "9cdbd9dd-70fc-4cd8-d6d0-7bfc1c6a3cba"
      },
      "source": [
        "X_test_plus.head()"
      ],
      "execution_count": 471,
      "outputs": [
        {
          "output_type": "execute_result",
          "data": {
            "text/html": [
              "<div>\n",
              "<style scoped>\n",
              "    .dataframe tbody tr th:only-of-type {\n",
              "        vertical-align: middle;\n",
              "    }\n",
              "\n",
              "    .dataframe tbody tr th {\n",
              "        vertical-align: top;\n",
              "    }\n",
              "\n",
              "    .dataframe thead th {\n",
              "        text-align: right;\n",
              "    }\n",
              "</style>\n",
              "<table border=\"1\" class=\"dataframe\">\n",
              "  <thead>\n",
              "    <tr style=\"text-align: right;\">\n",
              "      <th></th>\n",
              "      <th>Acc_type</th>\n",
              "      <th>bed</th>\n",
              "      <th>bath</th>\n",
              "      <th>park</th>\n",
              "      <th>area</th>\n",
              "      <th>Size_select</th>\n",
              "      <th>Size</th>\n",
              "    </tr>\n",
              "  </thead>\n",
              "  <tbody>\n",
              "    <tr>\n",
              "      <th>5</th>\n",
              "      <td>Apartment</td>\n",
              "      <td>2.0</td>\n",
              "      <td>1.0</td>\n",
              "      <td>1.0</td>\n",
              "      <td>cape-flats</td>\n",
              "      <td>0.0</td>\n",
              "      <td>NaN</td>\n",
              "    </tr>\n",
              "    <tr>\n",
              "      <th>8</th>\n",
              "      <td>Apartment</td>\n",
              "      <td>1.0</td>\n",
              "      <td>1.0</td>\n",
              "      <td>1.0</td>\n",
              "      <td>southern-suburbs</td>\n",
              "      <td>1.0</td>\n",
              "      <td>30.0</td>\n",
              "    </tr>\n",
              "    <tr>\n",
              "      <th>9</th>\n",
              "      <td>Apartment</td>\n",
              "      <td>2.0</td>\n",
              "      <td>1.0</td>\n",
              "      <td>1.0</td>\n",
              "      <td>southern-suburbs</td>\n",
              "      <td>0.0</td>\n",
              "      <td>NaN</td>\n",
              "    </tr>\n",
              "    <tr>\n",
              "      <th>10</th>\n",
              "      <td>House</td>\n",
              "      <td>3.0</td>\n",
              "      <td>1.0</td>\n",
              "      <td>1.0</td>\n",
              "      <td>strand-gordon</td>\n",
              "      <td>1.0</td>\n",
              "      <td>140.0</td>\n",
              "    </tr>\n",
              "    <tr>\n",
              "      <th>11</th>\n",
              "      <td>House</td>\n",
              "      <td>2.0</td>\n",
              "      <td>1.0</td>\n",
              "      <td>2.0</td>\n",
              "      <td>cape-flats</td>\n",
              "      <td>0.0</td>\n",
              "      <td>NaN</td>\n",
              "    </tr>\n",
              "  </tbody>\n",
              "</table>\n",
              "</div>"
            ],
            "text/plain": [
              "     Acc_type  bed  bath  park              area  Size_select   Size\n",
              "5   Apartment  2.0   1.0   1.0        cape-flats          0.0    NaN\n",
              "8   Apartment  1.0   1.0   1.0  southern-suburbs          1.0   30.0\n",
              "9   Apartment  2.0   1.0   1.0  southern-suburbs          0.0    NaN\n",
              "10      House  3.0   1.0   1.0     strand-gordon          1.0  140.0\n",
              "11      House  2.0   1.0   2.0        cape-flats          0.0    NaN"
            ]
          },
          "metadata": {
            "tags": []
          },
          "execution_count": 471
        }
      ]
    },
    {
      "cell_type": "markdown",
      "metadata": {
        "id": "e2HK28Jx2dZ_",
        "colab_type": "text"
      },
      "source": [
        "outliers"
      ]
    },
    {
      "cell_type": "code",
      "metadata": {
        "id": "k7IA2EPQ3WHW",
        "colab_type": "code",
        "colab": {
          "base_uri": "https://localhost:8080/",
          "height": 218
        },
        "outputId": "51b765a7-a883-4ca0-c059-042a2a183f5e"
      },
      "source": [
        "X_full.park.isnull()"
      ],
      "execution_count": 44,
      "outputs": [
        {
          "output_type": "execute_result",
          "data": {
            "text/plain": [
              "0         True\n",
              "1         True\n",
              "2         True\n",
              "3         True\n",
              "4         True\n",
              "         ...  \n",
              "16605    False\n",
              "16606    False\n",
              "16607    False\n",
              "16608    False\n",
              "16609    False\n",
              "Name: park, Length: 16610, dtype: bool"
            ]
          },
          "metadata": {
            "tags": []
          },
          "execution_count": 44
        }
      ]
    },
    {
      "cell_type": "code",
      "metadata": {
        "id": "6Gj338po2e-w",
        "colab_type": "code",
        "colab": {
          "base_uri": "https://localhost:8080/",
          "height": 54
        },
        "outputId": "022676c0-3c44-4ce2-cd18-51b5bc68d7de"
      },
      "source": [
        "import numpy as np\n",
        "import scipy.stats as stats\n",
        "out=[]\n",
        "def ZRscore_outlier(df):\n",
        "    med = np.median(df)\n",
        "    ma = stats.median_absolute_deviation(df)\n",
        "    for i in df: \n",
        "        z = (0.6745*(i-med))/ (np.median(ma))\n",
        "        if np.abs(z) > 3: \n",
        "            out.append(i)\n",
        "    print(\"Outliers:\",out)\n",
        "ZRscore_outlier(y)"
      ],
      "execution_count": 46,
      "outputs": [
        {
          "output_type": "stream",
          "text": [
            "Outliers: [9970000, 9975000, 9975000, 9990000, 9990000, 9995000, 9995000, 9995000, 9995000, 9995000, 9995000, 9995000, 9995000, 9995000, 9995000, 9995000, 9995000, 9995000, 9995000, 9995000, 9995000, 9995000, 9995000, 9995000, 9995000, 9995000, 9995000, 9995000, 9995000, 9995000, 9995000, 9995000, 9995000, 9995000, 9999000, 9999000, 9999500, 10000000, 10000000, 10000000, 10000000, 10000000, 10000000, 10000000, 10000000, 10000000, 10000000, 10050000, 10200000, 10200000, 10200000, 10220000, 10250000, 10250000, 10300000, 10350000, 10350000, 10400000, 10450000, 10450000, 10490000, 10490000, 10495000, 10495000, 10495000, 10495000, 10495000, 10499000, 10500000, 10500000, 10500000, 10500000, 10500000, 10500000, 10500000, 10500000, 10500000, 10500000, 10500000, 10500000, 10500000, 10500000, 10500000, 10500000, 10500000, 10500000, 10500000, 10500000, 10500000, 10500000, 10500000, 10500000, 10500000, 10599000, 10600000, 10650000, 10650000, 10650000, 10695000, 10695000, 10699000, 10700000, 10700000, 10700000, 10700000, 10700000, 10700000, 10750000, 10750000, 10750000, 10750000, 10750000, 10750000, 10800000, 10800000, 10800000, 10800000, 10800000, 10800000, 10800000, 10850000, 10850000, 10850000, 10850000, 10850000, 10870000, 10895000, 10900000, 10900000, 10900000, 10900000, 10900000, 10900000, 10900000, 10900000, 10900000, 10900000, 10900000, 10900000, 10900000, 10900000, 10900000, 10900000, 10900000, 10900000, 10900000, 10900000, 10925000, 10950000, 10950000, 10950000, 10950000, 10950000, 10950000, 10950000, 10950000, 10950000, 10950000, 10950000, 10950000, 10950000, 10950000, 10950000, 10950000, 10950000, 10950000, 10950000, 10990000, 10995000, 10995000, 10995000, 10995000, 10995000, 10995000, 10995000, 10995000, 10995000, 10995000, 10995000, 10995000, 10995000, 10995000, 10995000, 10995000, 10995000, 10995000, 10995000, 10995000, 10995000, 10995000, 10995000, 10995000, 10995000, 10995000, 10995000, 10996000, 10999000, 11000000, 11000000, 11000000, 11000000, 11000000, 11000000, 11000000, 11200000, 11250000, 11250000, 11250000, 11250000, 11250000, 11250000, 11250000, 11300000, 11395000, 11400000, 11450000, 11490000, 11495000, 11495000, 11495000, 11495000, 11500000, 11500000, 11500000, 11500000, 11500000, 11500000, 11500000, 11500000, 11500000, 11500000, 11500000, 11500000, 11500000, 11500000, 11500000, 11500000, 11500000, 11500000, 11500000, 11500000, 11500000, 11500000, 11500000, 11500000, 11500000, 11500000, 11500000, 11500000, 11500000, 11500000, 11500000, 11520000, 11550000, 11600000, 11600000, 11600000, 11750000, 11750000, 11750000, 11750000, 11750000, 11750000, 11750000, 11800000, 11800000, 11850000, 11850000, 11895000, 11900000, 11900000, 11900000, 11900000, 11900000, 11900000, 11900000, 11900000, 11900000, 11900000, 11900000, 11900000, 11900000, 11900000, 11900000, 11900000, 11950000, 11950000, 11950000, 11950000, 11950000, 11950000, 11950000, 11950000, 11950000, 11950000, 11950000, 11990000, 11990000, 11995000, 11995000, 11995000, 11995000, 11995000, 11995000, 11995000, 11995000, 11995000, 11995000, 11995000, 11995000, 11995000, 11995000, 11995000, 11995000, 11995000, 11995000, 11995000, 11995000, 11995000, 11999000, 12000000, 12000000, 12000000, 12000000, 12000000, 12000000, 12000000, 12000000, 12000000, 12000000, 12000000, 12200000, 12200000, 12200000, 12250000, 12250000, 12250000, 12250000, 12250000, 12250000, 12250000, 12250000, 12250000, 12250000, 12300000, 12400000, 12495000, 12495000, 12495000, 12499000, 12500000, 12500000, 12500000, 12500000, 12500000, 12500000, 12500000, 12500000, 12500000, 12500000, 12500000, 12500000, 12500000, 12500000, 12500000, 12500000, 12500000, 12500000, 12500000, 12500000, 12500000, 12500000, 12500000, 12500000, 12500000, 12500000, 12500000, 12500000, 12500000, 12500000, 12500000, 12500000, 12500000, 12575000, 12595000, 12600000, 12750000, 12750000, 12750000, 12750000, 12750000, 12750000, 12750000, 12750000, 12750000, 12750000, 12750000, 12750000, 12800000, 12840000, 12850000, 12850000, 12900000, 12900000, 12900000, 12900000, 12900000, 12900000, 12900000, 12950000, 12950000, 12950000, 12950000, 12950000, 12950000, 12950000, 12950000, 12950000, 12950000, 12950000, 12950000, 12950000, 12990000, 12990000, 12995000, 12995000, 12995000, 12995000, 12995000, 12995000, 12995000, 12995000, 12995000, 12995000, 12995000, 12995000, 12995000, 12995000, 12995000, 12995000, 12995000, 12995000, 12995000, 12999000, 12999000, 12999000, 13000000, 13000000, 13000000, 13000000, 13000000, 13000000, 13000000, 13000000, 13018400, 13020000, 13200000, 13250000, 13250000, 13450000, 13450000, 13450000, 13450000, 13495000, 13495000, 13500000, 13500000, 13500000, 13500000, 13500000, 13500000, 13500000, 13500000, 13500000, 13500000, 13500000, 13500000, 13500000, 13500000, 13500000, 13500000, 13500000, 13500000, 13500000, 13500000, 13595000, 13595000, 13595000, 13650000, 13700000, 13700000, 13700000, 13750000, 13750000, 13750000, 13750000, 13750000, 13750000, 13750000, 13795000, 13800000, 13800000, 13900000, 13900000, 13900000, 13900000, 13900000, 13900000, 13900000, 13950000, 13950000, 13950000, 13950000, 13950000, 13950000, 13950000, 13950000, 13950000, 13950000, 13950000, 13950000, 13950000, 13950000, 13950000, 13950000, 13950000, 13950000, 13950000, 13950000, 13975000, 13990000, 13995000, 13995000, 13995000, 13995000, 13995000, 13995000, 13995000, 13995000, 13995000, 13995000, 13995000, 13995000, 13995000, 13995000, 13995000, 13995000, 13995000, 13995000, 13997500, 13999000, 14000000, 14000000, 14000000, 14000000, 14000000, 14000000, 14000000, 14000000, 14250000, 14250000, 14250000, 14350000, 14350000, 14495000, 14495000, 14495000, 14495000, 14500000, 14500000, 14500000, 14500000, 14500000, 14500000, 14500000, 14500000, 14500000, 14500000, 14500000, 14500000, 14500000, 14500000, 14700000, 14750000, 14750000, 14750000, 14750000, 14750000, 14750000, 14750000, 14750000, 14755000, 14755000, 14755000, 14775000, 14835000, 14850000, 14850000, 14850000, 14890000, 14890000, 14900000, 14900000, 14900000, 14900000, 14900000, 14900000, 14900000, 14900000, 14900000, 14900000, 14900000, 14900000, 14900000, 14900000, 14944250, 14950000, 14950000, 14950000, 14950000, 14950000, 14950000, 14950000, 14950000, 14950000, 14950000, 14950000, 14950000, 14990000, 14990000, 14990000, 14990000, 14995000, 14995000, 14995000, 14995000, 14995000, 14995000, 14995000, 14995000, 14995000, 14995000, 14995000, 14995000, 14995000, 14995000, 14995000, 14995000, 14995000, 14995995, 14999000, 15000000, 15000000, 15000000, 15000000, 15000000, 15000000, 15000000, 15000000, 15000000, 15000000, 15000000, 15000000, 15000000, 15000000, 15000000, 15000000, 15200000, 15249000, 15250000, 15250000, 15500000, 15500000, 15500000, 15500000, 15500000, 15500000, 15500000, 15500000, 15550000, 15675000, 15750000, 15750000, 15750000, 15750000, 15750000, 15795000, 15800000, 15800000, 15800000, 15890000, 15895000, 15900000, 15900000, 15900000, 15900000, 15900000, 15900000, 15900000, 15900000, 15900000, 15900000, 15950000, 15950000, 15950000, 15950000, 15950000, 15950000, 15950000, 15950000, 15950000, 15950000, 15950000, 15950000, 15995000, 15995000, 15995000, 15995000, 15995000, 15995000, 15995000, 15995000, 15995000, 15995000, 15995000, 15995000, 15995000, 15995000, 15999000, 15999000, 15999000, 16000000, 16000000, 16000000, 16000000, 16000000, 16000000, 16000000, 16000000, 16000000, 16094250, 16250000, 16499000, 16500000, 16500000, 16500000, 16500000, 16500000, 16500000, 16500000, 16500000, 16500000, 16500000, 16500000, 16500000, 16500000, 16500000, 16600000, 16750000, 16750000, 16750000, 16800000, 16850000, 16900000, 16900000, 16900000, 16900000, 16900000, 16900000, 16900000, 16900000, 16950000, 16950000, 16950000, 16990000, 16995000, 16995000, 16995000, 16995000, 16995000, 16995000, 16995000, 16995000, 16995000, 17000000, 17000000, 17000000, 17215300, 17215300, 17250000, 17250000, 17250000, 17265000, 17265000, 17265300, 17300000, 17385000, 17400000, 17500000, 17500000, 17500000, 17500000, 17500000, 17500000, 17500000, 17500000, 17500000, 17500000, 17500000, 17500000, 17500000, 17500000, 17500000, 17750000, 17750000, 17750000, 17750000, 17800000, 17950000, 17950000, 17950000, 17950000, 17950000, 17950000, 17995000, 17995000, 17995000, 17995000, 17995000, 18000000, 18000000, 18000000, 18000000, 18000000, 18000000, 18000000, 18000000, 18170000, 18200000, 18495000, 18500000, 18500000, 18500000, 18500000, 18500000, 18500000, 18700000, 18750000, 18750000, 18750000, 18800000, 18900000, 18900000, 18900000, 18950000, 18950000, 18950000, 18950000, 18950000, 18990000, 18990000, 18995000, 18995000, 18995000, 18995000, 18995000, 18995000, 19000000, 19000000, 19000000, 19000000, 19000000, 19000000, 19000000, 19000000, 19000000, 19200000, 19200000, 19250000, 19495000, 19500000, 19500000, 19500000, 19500000, 19500000, 19500000, 19500000, 19750000, 19750000, 19800000, 19900000, 19900000, 19900000, 19900000, 19900000, 19900000, 19900000, 19900000, 19900000, 19950000, 19950000, 19950000, 19950000, 19950000, 19950000, 19950000, 19950000, 19950000, 19950000, 19950000, 19950000, 19950000, 19950000, 19950000, 19975000, 19990000, 19990000, 19995000, 19995000, 19995000, 19995000, 19995000, 19995000, 19995000, 19995000, 19995000, 19995000, 19995000, 19995000, 19995000, 19995000, 19995000, 19995000, 19999000, 19999500, 19999999, 20000000, 20000000, 20000000, 20000000, 20000000, 20000000, 20250000, 20500000, 20500000, 20800000, 20950000, 20950000, 20950000, 20950000, 20995000, 21000000, 21000000, 21000000, 21000000, 21500000, 21500000, 21500000, 21500000, 21500000, 21750000, 21850000, 21850000, 21900000, 21900000, 21900000, 21950000, 21950000, 21950000, 21995000, 21995000, 21995000, 21995000, 21995000, 22000000, 22000000, 22000000, 22000000, 22000000, 22000000, 22500000, 22500000, 22750000, 22900000, 22950000, 22950000, 22995000, 22995000, 22995000, 22995000, 22995000, 22999000, 23000000, 23000000, 23000000, 23000000, 23000000, 23000000, 23000000, 23000000, 23000000, 23000000, 23000000, 23500000, 23500000, 23500000, 23500000, 23500000, 23800000, 23900000, 23950000, 23950000, 23950000, 23950000, 23950000, 23995000, 24000000, 24000000, 24000000, 24000000, 24500000, 24500000, 24500000, 24725000, 24725000, 24750000, 24750000, 24750000, 24800000, 24800000, 24900000, 24900000, 24900000, 24900000, 24900000, 24900000, 24950000, 24950000, 24950000, 24950000, 24950000, 24975000, 24990000, 24995000, 24995000, 24995000, 24995000, 24995000, 24995000, 24995000, 24999000, 24999000, 25000000, 25000000, 25000000, 25000000, 25000000, 25000000, 25000000, 25000000, 25000000, 25000000, 25000000, 25200000, 25500000, 25500000, 25500000, 25500000, 25900000, 25950000, 25950000, 25950000, 25995000, 25995000, 25995000, 25995000, 26000000, 26000000, 26000000, 26000000, 26000000, 26000000, 26000000, 26100000, 26500000, 26500000, 26750000, 26900000, 26950000, 26950000, 26995000, 26995000, 26995000, 26995000, 27000000, 27000000, 27000000, 27000000, 27500000, 27500000, 27500000, 27950000, 27995000, 28000000, 28000000, 28000000, 28000000, 28000000, 28000000, 28000000, 28000000, 28000000, 28500000, 28500000, 28650000, 28650000, 28650000, 28750000, 28950000, 28995000, 29000000, 29000000, 29000000, 29000000, 29000000, 29000000, 29000000, 29000000, 29000000, 29000000, 29000000, 29000000, 29000000, 29000000, 29000000, 29000000, 29000000, 29490000, 29500000, 29500000, 29500000, 29500000, 29500000, 29640000, 29750000, 29900000, 29900000, 29900000, 29950000, 29950000, 29950000, 29995000, 29995000, 29995000, 29995000, 29995000, 29995000, 29995000, 29995000, 29995000, 29995000, 29999000, 29999000, 30000000, 30000000, 30000000, 30000000, 30000000, 30000000, 30990000, 31000000, 31500000, 32000000, 32000000, 32000000, 32000000, 32000000, 32000000, 32000000, 32000000, 32000000, 32500000, 32500000, 32500000, 33250000, 33500000, 33925000, 33995000, 34000000, 34000000, 34500000, 34500000, 34500000, 34500000, 34950000, 35000000, 35000000, 35000000, 35000000, 35000000, 35000000, 35000000, 35000000, 35000000, 35000000, 35900000, 36000000, 36000000, 36000000, 36900000, 37500000, 37500000, 37750000, 37950000, 38000000, 38000000, 38000000, 38500000, 38950000, 39000000, 39000000, 39000000, 39000000, 39500000, 39500000, 39500000, 39500000, 39950000, 39950000, 39995000, 39995000, 39995000, 40000000, 40000000, 40000000, 40250000, 41400000, 41500000, 42000000, 42000000, 42000000, 42000000, 42000000, 43500000, 44000000, 45000000, 45000000, 45000000, 45000000, 45000000, 45000000, 45000000, 45000000, 45000000, 47500000, 49000000, 49000000, 49000000, 49500000, 49500000, 49990000, 50000000, 50000000, 52000000, 52500000, 55000000, 55000000, 55000000, 55000000, 55000000, 56000000, 56000000, 59000000, 59000000, 59500000, 59950000, 59950000, 59950000, 59995000, 60000000, 64700000, 65000000, 65000000, 68000000, 69000000, 69000000, 69500000, 69995000, 70000000, 73000000, 75000000, 75000000, 75000000, 80000000, 85000000, 86250000, 90000000, 92500000, 95000000, 120000000, 150000000, 172500000]\n"
          ],
          "name": "stdout"
        }
      ]
    },
    {
      "cell_type": "code",
      "metadata": {
        "id": "txMi4vz28JPS",
        "colab_type": "code",
        "colab": {
          "base_uri": "https://localhost:8080/",
          "height": 54
        },
        "outputId": "b750872e-1dc3-4a0c-dcd5-c6ab1f3b135e"
      },
      "source": [
        "import numpy as np\n",
        "import scipy.stats as stats\n",
        "out=[]\n",
        "def ZRscore_outlier(df):\n",
        "    med = np.median(df)\n",
        "    ma = stats.median_absolute_deviation(df)\n",
        "    for i in df: \n",
        "        z = (0.6745*(i-med))/ (np.median(ma))\n",
        "        if np.abs(z) > 3: \n",
        "            out.append(i)\n",
        "    print(\"Outliers:\",out)\n",
        "ZRscore_outlier(y)"
      ],
      "execution_count": 512,
      "outputs": [
        {
          "output_type": "stream",
          "text": [
            "Outliers: [7450000, 7450000, 7450000, 7495000, 7495000, 7495000, 7495000, 7500000, 7500000, 7500000, 7500000, 7500000, 7500000, 7500000, 7500000, 7500000, 7500000, 7500000, 7500000, 7500000, 7500000, 7500000, 7599050, 7599050, 7695000, 7700000, 7750000, 7750000, 7750000, 7750000, 7780000, 7780000, 7795000, 7795000, 7795000, 7795000, 7800000, 7800000, 7900000, 7900000, 7900000, 7900000, 7900000, 7900000, 7900000, 7900000, 7950000, 7950000, 7950000, 7950000, 7950000, 7950000, 7950000, 7950000, 7950000, 7950000, 7950000, 7950000, 7950000, 7950000, 7950000, 7950000, 7950000, 7992500, 7995000, 7995000, 7995000, 7995000, 7995000, 7995000, 7995000, 7995000, 7995000, 7995000, 7995000, 7999000, 7999000, 7999000, 8000000, 8000000, 8000000, 8200000, 8250000, 8250000, 8250000, 8250000, 8250000, 8250000, 8350000, 8400000, 8400000, 8400000, 8495000, 8495000, 8499000, 8500000, 8500000, 8500000, 8500000, 8500000, 8500000, 8500000, 8500000, 8500000, 8500000, 8550000, 8590000, 8650000, 8690000, 8700000, 8700000, 8750000, 8750000, 8750000, 8750000, 8750000, 8795000, 8850000, 8850000, 8860000, 8900000, 8900000, 8900000, 8950000, 8950000, 8950000, 8950000, 8950000, 8950000, 8995000, 8995000, 8995000, 8995000, 8995000, 8995000, 8999000, 9000000, 9250000, 9251000, 9300000, 9495000, 9495000, 9495000, 9500000, 9500000, 9500000, 9500000, 9500000, 9500000, 9700000, 9700000, 9750000, 9750000, 9750000, 9950000, 9950000, 9950000, 9950000, 9950000, 9950000, 9950000, 9950000, 9950000, 9950000, 9950000, 9975000, 9995000, 9995000, 9995000, 9995000, 9995000, 9995000, 9995000, 9995000, 9995000, 9995000]\n"
          ],
          "name": "stdout"
        }
      ]
    },
    {
      "cell_type": "code",
      "metadata": {
        "id": "GlXjXTH38bH5",
        "colab_type": "code",
        "colab": {
          "base_uri": "https://localhost:8080/",
          "height": 54
        },
        "outputId": "1f12e333-039c-4b1b-e5d2-01c99fd940ce"
      },
      "source": [
        "out=[]\n",
        "def Zscore_outlier(df):\n",
        "    for i in df: \n",
        "        z = (i-np.mean(df))/np.std(df)\n",
        "        if np.abs(z) > 3: \n",
        "            out.append(i)\n",
        "    print(\"Outliers:\",out)\n",
        "Zscore_outlier(X_testbla['park'])"
      ],
      "execution_count": 549,
      "outputs": [
        {
          "output_type": "stream",
          "text": [
            "Outliers: [12.0, 12.0, 14.0, 58.0, 12.0, 12.0, 11.0, 14.0, 11.0, 15.0, 12.0, 12.0, 14.0, 12.0, 12.0, 13.0, 14.0, 14.0, 12.0, 12.0, 12.0, 12.0, 22.0, 15.0, 14.0, 11.0, 13.0, 12.0, 14.0, 13.0, 30.0, 12.0, 12.0, 12.0, 11.0, 13.0, 11.0, 15.0, 11.0, 12.0, 12.0, 16.0, 12.0, 11.0, 13.0, 12.0, 13.0, 15.0, 11.0, 11.0, 12.0, 17.0, 11.0, 12.0, 14.0, 14.0, 12.0, 12.0, 11.0, 14.0, 13.0, 14.0, 13.0, 12.0, 12.0, 14.0, 11.0, 11.0, 12.0, 14.0, 11.0, 13.0, 12.0, 15.0, 13.0, 12.0, 12.0, 11.0, 12.0, 12.0, 15.0, 20.0, 12.0, 11.0, 13.0, 14.0, 13.0, 16.0, 20.0, 12.0, 11.0, 14.0, 18.0, 13.0, 12.0, 11.0, 15.0, 16.0, 14.0, 15.0]\n"
          ],
          "name": "stdout"
        }
      ]
    },
    {
      "cell_type": "code",
      "metadata": {
        "id": "smDNa5SD8onW",
        "colab_type": "code",
        "colab": {}
      },
      "source": [
        ""
      ],
      "execution_count": null,
      "outputs": []
    },
    {
      "cell_type": "markdown",
      "metadata": {
        "id": "QsZn5LhzcEF6",
        "colab_type": "text"
      },
      "source": [
        "Drop park column, with sizes merged: 5509149.595440613"
      ]
    },
    {
      "cell_type": "code",
      "metadata": {
        "id": "sn7sn7m7cCVD",
        "colab_type": "code",
        "colab": {}
      },
      "source": [
        "X_test_plus = X_test_plus.drop('park', 1)"
      ],
      "execution_count": null,
      "outputs": []
    },
    {
      "cell_type": "code",
      "metadata": {
        "id": "MCvgDo3ZbVFn",
        "colab_type": "code",
        "colab": {
          "base_uri": "https://localhost:8080/",
          "height": 195
        },
        "outputId": "4b706d93-997f-479d-c73e-18fa969fe832"
      },
      "source": [
        "X_test_plus.head()"
      ],
      "execution_count": null,
      "outputs": [
        {
          "output_type": "execute_result",
          "data": {
            "text/html": [
              "<div>\n",
              "<style scoped>\n",
              "    .dataframe tbody tr th:only-of-type {\n",
              "        vertical-align: middle;\n",
              "    }\n",
              "\n",
              "    .dataframe tbody tr th {\n",
              "        vertical-align: top;\n",
              "    }\n",
              "\n",
              "    .dataframe thead th {\n",
              "        text-align: right;\n",
              "    }\n",
              "</style>\n",
              "<table border=\"1\" class=\"dataframe\">\n",
              "  <thead>\n",
              "    <tr style=\"text-align: right;\">\n",
              "      <th></th>\n",
              "      <th>Acc_type</th>\n",
              "      <th>bed</th>\n",
              "      <th>bath</th>\n",
              "      <th>Size_select</th>\n",
              "      <th>Size</th>\n",
              "    </tr>\n",
              "  </thead>\n",
              "  <tbody>\n",
              "    <tr>\n",
              "      <th>0</th>\n",
              "      <td>Apartment</td>\n",
              "      <td>0.5</td>\n",
              "      <td>1.0</td>\n",
              "      <td>1</td>\n",
              "      <td>39.0</td>\n",
              "    </tr>\n",
              "    <tr>\n",
              "      <th>1</th>\n",
              "      <td>Apartment</td>\n",
              "      <td>4.0</td>\n",
              "      <td>3.0</td>\n",
              "      <td>1</td>\n",
              "      <td>137.0</td>\n",
              "    </tr>\n",
              "    <tr>\n",
              "      <th>2</th>\n",
              "      <td>House</td>\n",
              "      <td>4.0</td>\n",
              "      <td>3.0</td>\n",
              "      <td>2</td>\n",
              "      <td>1992.0</td>\n",
              "    </tr>\n",
              "    <tr>\n",
              "      <th>3</th>\n",
              "      <td>House</td>\n",
              "      <td>4.0</td>\n",
              "      <td>3.5</td>\n",
              "      <td>2</td>\n",
              "      <td>3999.0</td>\n",
              "    </tr>\n",
              "    <tr>\n",
              "      <th>4</th>\n",
              "      <td>House</td>\n",
              "      <td>4.0</td>\n",
              "      <td>4.0</td>\n",
              "      <td>2</td>\n",
              "      <td>1992.0</td>\n",
              "    </tr>\n",
              "  </tbody>\n",
              "</table>\n",
              "</div>"
            ],
            "text/plain": [
              "    Acc_type  bed  bath  Size_select    Size\n",
              "0  Apartment  0.5   1.0            1    39.0\n",
              "1  Apartment  4.0   3.0            1   137.0\n",
              "2      House  4.0   3.0            2  1992.0\n",
              "3      House  4.0   3.5            2  3999.0\n",
              "4      House  4.0   4.0            2  1992.0"
            ]
          },
          "metadata": {
            "tags": []
          },
          "execution_count": 237
        }
      ]
    },
    {
      "cell_type": "code",
      "metadata": {
        "id": "nPRF_hShcWDW",
        "colab_type": "code",
        "colab": {}
      },
      "source": [
        "X_test_plus['sub'] = X_full['sub']"
      ],
      "execution_count": null,
      "outputs": []
    },
    {
      "cell_type": "code",
      "metadata": {
        "id": "DI3h-Ggcca-x",
        "colab_type": "code",
        "colab": {
          "base_uri": "https://localhost:8080/",
          "height": 195
        },
        "outputId": "3f591f16-12f3-4080-af17-1f539e5630a7"
      },
      "source": [
        "X_test_plus.head()"
      ],
      "execution_count": null,
      "outputs": [
        {
          "output_type": "execute_result",
          "data": {
            "text/html": [
              "<div>\n",
              "<style scoped>\n",
              "    .dataframe tbody tr th:only-of-type {\n",
              "        vertical-align: middle;\n",
              "    }\n",
              "\n",
              "    .dataframe tbody tr th {\n",
              "        vertical-align: top;\n",
              "    }\n",
              "\n",
              "    .dataframe thead th {\n",
              "        text-align: right;\n",
              "    }\n",
              "</style>\n",
              "<table border=\"1\" class=\"dataframe\">\n",
              "  <thead>\n",
              "    <tr style=\"text-align: right;\">\n",
              "      <th></th>\n",
              "      <th>Acc_type</th>\n",
              "      <th>bed</th>\n",
              "      <th>bath</th>\n",
              "      <th>Size_select</th>\n",
              "      <th>Size</th>\n",
              "      <th>sub</th>\n",
              "    </tr>\n",
              "  </thead>\n",
              "  <tbody>\n",
              "    <tr>\n",
              "      <th>0</th>\n",
              "      <td>Apartment</td>\n",
              "      <td>0.5</td>\n",
              "      <td>1.0</td>\n",
              "      <td>1</td>\n",
              "      <td>39.0</td>\n",
              "      <td>Rondebosch</td>\n",
              "    </tr>\n",
              "    <tr>\n",
              "      <th>1</th>\n",
              "      <td>Apartment</td>\n",
              "      <td>4.0</td>\n",
              "      <td>3.0</td>\n",
              "      <td>1</td>\n",
              "      <td>137.0</td>\n",
              "      <td>Cape Town City Centre</td>\n",
              "    </tr>\n",
              "    <tr>\n",
              "      <th>2</th>\n",
              "      <td>House</td>\n",
              "      <td>4.0</td>\n",
              "      <td>3.0</td>\n",
              "      <td>2</td>\n",
              "      <td>1992.0</td>\n",
              "      <td>Constantia</td>\n",
              "    </tr>\n",
              "    <tr>\n",
              "      <th>3</th>\n",
              "      <td>House</td>\n",
              "      <td>4.0</td>\n",
              "      <td>3.5</td>\n",
              "      <td>2</td>\n",
              "      <td>3999.0</td>\n",
              "      <td>Constantia</td>\n",
              "    </tr>\n",
              "    <tr>\n",
              "      <th>4</th>\n",
              "      <td>House</td>\n",
              "      <td>4.0</td>\n",
              "      <td>4.0</td>\n",
              "      <td>2</td>\n",
              "      <td>1992.0</td>\n",
              "      <td>Constantia</td>\n",
              "    </tr>\n",
              "  </tbody>\n",
              "</table>\n",
              "</div>"
            ],
            "text/plain": [
              "    Acc_type  bed  bath  Size_select    Size                    sub\n",
              "0  Apartment  0.5   1.0            1    39.0             Rondebosch\n",
              "1  Apartment  4.0   3.0            1   137.0  Cape Town City Centre\n",
              "2      House  4.0   3.0            2  1992.0             Constantia\n",
              "3      House  4.0   3.5            2  3999.0             Constantia\n",
              "4      House  4.0   4.0            2  1992.0             Constantia"
            ]
          },
          "metadata": {
            "tags": []
          },
          "execution_count": 239
        }
      ]
    },
    {
      "cell_type": "markdown",
      "metadata": {
        "id": "MAB59b_sdfQy",
        "colab_type": "text"
      },
      "source": [
        "Drop suburbs with less than 10 houses: 5110512.005364064"
      ]
    },
    {
      "cell_type": "code",
      "metadata": {
        "id": "45OPXY4IdenW",
        "colab_type": "code",
        "colab": {}
      },
      "source": [
        "v = X_test_plus[['sub']]\n",
        "X_test_plus1 = X_test_plus[v.replace(v.stack().value_counts()).gt(10).all(1)] \n",
        "y_test = y[v.replace(v.stack().value_counts()).gt(10).all(1)] "
      ],
      "execution_count": null,
      "outputs": []
    },
    {
      "cell_type": "code",
      "metadata": {
        "id": "tEEo08legnXq",
        "colab_type": "code",
        "colab": {
          "base_uri": "https://localhost:8080/",
          "height": 34
        },
        "outputId": "f5bdc433-4724-4880-c699-fc283fee7a93"
      },
      "source": [
        "len(X_test_plus1.index)"
      ],
      "execution_count": null,
      "outputs": [
        {
          "output_type": "execute_result",
          "data": {
            "text/plain": [
              "7160"
            ]
          },
          "metadata": {
            "tags": []
          },
          "execution_count": 305
        }
      ]
    },
    {
      "cell_type": "code",
      "metadata": {
        "id": "EyJq2LnsgT4S",
        "colab_type": "code",
        "colab": {
          "base_uri": "https://localhost:8080/",
          "height": 34
        },
        "outputId": "f4326780-792f-4b9b-e212-0e00b3e6a28e"
      },
      "source": [
        "len(y_test.index)"
      ],
      "execution_count": null,
      "outputs": [
        {
          "output_type": "execute_result",
          "data": {
            "text/plain": [
              "7160"
            ]
          },
          "metadata": {
            "tags": []
          },
          "execution_count": 306
        }
      ]
    },
    {
      "cell_type": "code",
      "metadata": {
        "id": "igDxbDb8h39t",
        "colab_type": "code",
        "colab": {}
      },
      "source": [
        " X_test_plus = X_test_plus1"
      ],
      "execution_count": null,
      "outputs": []
    },
    {
      "cell_type": "code",
      "metadata": {
        "id": "0yPjx9HHh9au",
        "colab_type": "code",
        "colab": {
          "base_uri": "https://localhost:8080/",
          "height": 34
        },
        "outputId": "5a29594e-cd7a-4c3f-a39b-2012b0b2099e"
      },
      "source": [
        "len(X_test_plus.index)"
      ],
      "execution_count": null,
      "outputs": [
        {
          "output_type": "execute_result",
          "data": {
            "text/plain": [
              "7160"
            ]
          },
          "metadata": {
            "tags": []
          },
          "execution_count": 309
        }
      ]
    },
    {
      "cell_type": "code",
      "metadata": {
        "id": "BnpKrTCcDtia",
        "colab_type": "code",
        "colab": {}
      },
      "source": [
        "X_test_plus = X_test_plus1[X_test_plus['area'] == 'northern-suburbs'].index\n",
        "X_test_plus = X_test_plus1[X_test_plus['area'] == 'northern-suburbs']"
      ],
      "execution_count": 185,
      "outputs": []
    },
    {
      "cell_type": "code",
      "metadata": {
        "id": "xrrBNu22D5VC",
        "colab_type": "code",
        "colab": {
          "base_uri": "https://localhost:8080/",
          "height": 195
        },
        "outputId": "495ea879-5b0f-4c22-9d75-cd13ca04cbce"
      },
      "source": [
        "X_test_plus.head()"
      ],
      "execution_count": 186,
      "outputs": [
        {
          "output_type": "execute_result",
          "data": {
            "text/html": [
              "<div>\n",
              "<style scoped>\n",
              "    .dataframe tbody tr th:only-of-type {\n",
              "        vertical-align: middle;\n",
              "    }\n",
              "\n",
              "    .dataframe tbody tr th {\n",
              "        vertical-align: top;\n",
              "    }\n",
              "\n",
              "    .dataframe thead th {\n",
              "        text-align: right;\n",
              "    }\n",
              "</style>\n",
              "<table border=\"1\" class=\"dataframe\">\n",
              "  <thead>\n",
              "    <tr style=\"text-align: right;\">\n",
              "      <th></th>\n",
              "      <th>Acc_type</th>\n",
              "      <th>bed</th>\n",
              "      <th>bath</th>\n",
              "      <th>park</th>\n",
              "      <th>area</th>\n",
              "      <th>Size_select</th>\n",
              "      <th>Size</th>\n",
              "    </tr>\n",
              "  </thead>\n",
              "  <tbody>\n",
              "    <tr>\n",
              "      <th>16</th>\n",
              "      <td>Apartment</td>\n",
              "      <td>1.0</td>\n",
              "      <td>1.0</td>\n",
              "      <td>1.0</td>\n",
              "      <td>northern-suburbs</td>\n",
              "      <td>1.0</td>\n",
              "      <td>38.0</td>\n",
              "    </tr>\n",
              "    <tr>\n",
              "      <th>26</th>\n",
              "      <td>Apartment</td>\n",
              "      <td>1.0</td>\n",
              "      <td>1.0</td>\n",
              "      <td>1.0</td>\n",
              "      <td>northern-suburbs</td>\n",
              "      <td>1.0</td>\n",
              "      <td>35.0</td>\n",
              "    </tr>\n",
              "    <tr>\n",
              "      <th>34</th>\n",
              "      <td>Apartment</td>\n",
              "      <td>1.0</td>\n",
              "      <td>1.0</td>\n",
              "      <td>1.0</td>\n",
              "      <td>northern-suburbs</td>\n",
              "      <td>1.0</td>\n",
              "      <td>38.0</td>\n",
              "    </tr>\n",
              "    <tr>\n",
              "      <th>47</th>\n",
              "      <td>Apartment</td>\n",
              "      <td>2.0</td>\n",
              "      <td>1.0</td>\n",
              "      <td>1.0</td>\n",
              "      <td>northern-suburbs</td>\n",
              "      <td>0.0</td>\n",
              "      <td>NaN</td>\n",
              "    </tr>\n",
              "    <tr>\n",
              "      <th>48</th>\n",
              "      <td>Apartment</td>\n",
              "      <td>1.0</td>\n",
              "      <td>1.0</td>\n",
              "      <td>1.0</td>\n",
              "      <td>northern-suburbs</td>\n",
              "      <td>0.0</td>\n",
              "      <td>NaN</td>\n",
              "    </tr>\n",
              "  </tbody>\n",
              "</table>\n",
              "</div>"
            ],
            "text/plain": [
              "     Acc_type  bed  bath  park              area  Size_select  Size\n",
              "16  Apartment  1.0   1.0   1.0  northern-suburbs          1.0  38.0\n",
              "26  Apartment  1.0   1.0   1.0  northern-suburbs          1.0  35.0\n",
              "34  Apartment  1.0   1.0   1.0  northern-suburbs          1.0  38.0\n",
              "47  Apartment  2.0   1.0   1.0  northern-suburbs          0.0   NaN\n",
              "48  Apartment  1.0   1.0   1.0  northern-suburbs          0.0   NaN"
            ]
          },
          "metadata": {
            "tags": []
          },
          "execution_count": 186
        }
      ]
    },
    {
      "cell_type": "markdown",
      "metadata": {
        "id": "HOIJWF-DZLIr",
        "colab_type": "text"
      },
      "source": [
        "End of data testing, beginning of pipeline and modeling"
      ]
    },
    {
      "cell_type": "code",
      "metadata": {
        "id": "VHWQ5j3kZQsz",
        "colab_type": "code",
        "colab": {}
      },
      "source": [
        "X_test = X_test_plus.copy()"
      ],
      "execution_count": 472,
      "outputs": []
    },
    {
      "cell_type": "code",
      "metadata": {
        "id": "I7SlFoatjRoy",
        "colab_type": "code",
        "colab": {
          "base_uri": "https://localhost:8080/",
          "height": 402
        },
        "outputId": "739352d8-f17f-4e0a-ab68-6ea7f138a970"
      },
      "source": [
        "X_test"
      ],
      "execution_count": 473,
      "outputs": [
        {
          "output_type": "execute_result",
          "data": {
            "text/html": [
              "<div>\n",
              "<style scoped>\n",
              "    .dataframe tbody tr th:only-of-type {\n",
              "        vertical-align: middle;\n",
              "    }\n",
              "\n",
              "    .dataframe tbody tr th {\n",
              "        vertical-align: top;\n",
              "    }\n",
              "\n",
              "    .dataframe thead th {\n",
              "        text-align: right;\n",
              "    }\n",
              "</style>\n",
              "<table border=\"1\" class=\"dataframe\">\n",
              "  <thead>\n",
              "    <tr style=\"text-align: right;\">\n",
              "      <th></th>\n",
              "      <th>Acc_type</th>\n",
              "      <th>bed</th>\n",
              "      <th>bath</th>\n",
              "      <th>park</th>\n",
              "      <th>area</th>\n",
              "      <th>Size_select</th>\n",
              "      <th>Size</th>\n",
              "    </tr>\n",
              "  </thead>\n",
              "  <tbody>\n",
              "    <tr>\n",
              "      <th>5</th>\n",
              "      <td>Apartment</td>\n",
              "      <td>2.0</td>\n",
              "      <td>1.0</td>\n",
              "      <td>1.0</td>\n",
              "      <td>cape-flats</td>\n",
              "      <td>0.0</td>\n",
              "      <td>NaN</td>\n",
              "    </tr>\n",
              "    <tr>\n",
              "      <th>8</th>\n",
              "      <td>Apartment</td>\n",
              "      <td>1.0</td>\n",
              "      <td>1.0</td>\n",
              "      <td>1.0</td>\n",
              "      <td>southern-suburbs</td>\n",
              "      <td>1.0</td>\n",
              "      <td>30.0</td>\n",
              "    </tr>\n",
              "    <tr>\n",
              "      <th>9</th>\n",
              "      <td>Apartment</td>\n",
              "      <td>2.0</td>\n",
              "      <td>1.0</td>\n",
              "      <td>1.0</td>\n",
              "      <td>southern-suburbs</td>\n",
              "      <td>0.0</td>\n",
              "      <td>NaN</td>\n",
              "    </tr>\n",
              "    <tr>\n",
              "      <th>10</th>\n",
              "      <td>House</td>\n",
              "      <td>3.0</td>\n",
              "      <td>1.0</td>\n",
              "      <td>1.0</td>\n",
              "      <td>strand-gordon</td>\n",
              "      <td>1.0</td>\n",
              "      <td>140.0</td>\n",
              "    </tr>\n",
              "    <tr>\n",
              "      <th>11</th>\n",
              "      <td>House</td>\n",
              "      <td>2.0</td>\n",
              "      <td>1.0</td>\n",
              "      <td>2.0</td>\n",
              "      <td>cape-flats</td>\n",
              "      <td>0.0</td>\n",
              "      <td>NaN</td>\n",
              "    </tr>\n",
              "    <tr>\n",
              "      <th>...</th>\n",
              "      <td>...</td>\n",
              "      <td>...</td>\n",
              "      <td>...</td>\n",
              "      <td>...</td>\n",
              "      <td>...</td>\n",
              "      <td>...</td>\n",
              "      <td>...</td>\n",
              "    </tr>\n",
              "    <tr>\n",
              "      <th>15336</th>\n",
              "      <td>House</td>\n",
              "      <td>5.0</td>\n",
              "      <td>5.5</td>\n",
              "      <td>4.0</td>\n",
              "      <td>northern-suburbs</td>\n",
              "      <td>2.0</td>\n",
              "      <td>1040.0</td>\n",
              "    </tr>\n",
              "    <tr>\n",
              "      <th>15337</th>\n",
              "      <td>House</td>\n",
              "      <td>5.0</td>\n",
              "      <td>5.5</td>\n",
              "      <td>3.0</td>\n",
              "      <td>southern-suburbs</td>\n",
              "      <td>2.0</td>\n",
              "      <td>654.0</td>\n",
              "    </tr>\n",
              "    <tr>\n",
              "      <th>15338</th>\n",
              "      <td>House</td>\n",
              "      <td>5.0</td>\n",
              "      <td>6.0</td>\n",
              "      <td>8.0</td>\n",
              "      <td>somerset-west</td>\n",
              "      <td>2.0</td>\n",
              "      <td>1539.0</td>\n",
              "    </tr>\n",
              "    <tr>\n",
              "      <th>15343</th>\n",
              "      <td>House</td>\n",
              "      <td>6.0</td>\n",
              "      <td>5.5</td>\n",
              "      <td>6.0</td>\n",
              "      <td>somerset-west</td>\n",
              "      <td>2.0</td>\n",
              "      <td>1435.0</td>\n",
              "    </tr>\n",
              "    <tr>\n",
              "      <th>15344</th>\n",
              "      <td>Apartment</td>\n",
              "      <td>3.0</td>\n",
              "      <td>3.5</td>\n",
              "      <td>2.0</td>\n",
              "      <td>atlantic-seaboard</td>\n",
              "      <td>0.0</td>\n",
              "      <td>NaN</td>\n",
              "    </tr>\n",
              "  </tbody>\n",
              "</table>\n",
              "<p>12880 rows × 7 columns</p>\n",
              "</div>"
            ],
            "text/plain": [
              "        Acc_type  bed  bath  park               area  Size_select    Size\n",
              "5      Apartment  2.0   1.0   1.0         cape-flats          0.0     NaN\n",
              "8      Apartment  1.0   1.0   1.0   southern-suburbs          1.0    30.0\n",
              "9      Apartment  2.0   1.0   1.0   southern-suburbs          0.0     NaN\n",
              "10         House  3.0   1.0   1.0      strand-gordon          1.0   140.0\n",
              "11         House  2.0   1.0   2.0         cape-flats          0.0     NaN\n",
              "...          ...  ...   ...   ...                ...          ...     ...\n",
              "15336      House  5.0   5.5   4.0   northern-suburbs          2.0  1040.0\n",
              "15337      House  5.0   5.5   3.0   southern-suburbs          2.0   654.0\n",
              "15338      House  5.0   6.0   8.0      somerset-west          2.0  1539.0\n",
              "15343      House  6.0   5.5   6.0      somerset-west          2.0  1435.0\n",
              "15344  Apartment  3.0   3.5   2.0  atlantic-seaboard          0.0     NaN\n",
              "\n",
              "[12880 rows x 7 columns]"
            ]
          },
          "metadata": {
            "tags": []
          },
          "execution_count": 473
        }
      ]
    },
    {
      "cell_type": "code",
      "metadata": {
        "id": "zjVrnQw9F5y1",
        "colab_type": "code",
        "colab": {}
      },
      "source": [
        "# Select categorical columns\n",
        "categorical_cols = [cname for cname in X_test.columns if \n",
        "                    X_test[cname].dtype == \"object\"]\n",
        "\n",
        "# Select numerical columns\n",
        "numerical_cols = [cname for cname in X_test.columns if \n",
        "                X_test[cname].dtype in ['int64', 'float64']]\n",
        "\n",
        "# Keep selected columns only\n",
        "my_cols = categorical_cols + numerical_cols\n",
        "X_test = X_test[my_cols]"
      ],
      "execution_count": 562,
      "outputs": []
    },
    {
      "cell_type": "code",
      "metadata": {
        "id": "RTUr5XOmGwxi",
        "colab_type": "code",
        "colab": {
          "base_uri": "https://localhost:8080/",
          "height": 34
        },
        "outputId": "c283b507-7f6a-4a99-a8e5-90b5f9068c32"
      },
      "source": [
        "my_cols"
      ],
      "execution_count": 563,
      "outputs": [
        {
          "output_type": "execute_result",
          "data": {
            "text/plain": [
              "['Acc_type', 'area', 'bed', 'bath', 'park', 'sizeErf']"
            ]
          },
          "metadata": {
            "tags": []
          },
          "execution_count": 563
        }
      ]
    },
    {
      "cell_type": "code",
      "metadata": {
        "id": "4v28yWm2GH0z",
        "colab_type": "code",
        "colab": {
          "base_uri": "https://localhost:8080/",
          "height": 195
        },
        "outputId": "c65f6e56-cbaa-4112-da10-0c3b2edde47b"
      },
      "source": [
        "X_test.head()"
      ],
      "execution_count": 564,
      "outputs": [
        {
          "output_type": "execute_result",
          "data": {
            "text/html": [
              "<div>\n",
              "<style scoped>\n",
              "    .dataframe tbody tr th:only-of-type {\n",
              "        vertical-align: middle;\n",
              "    }\n",
              "\n",
              "    .dataframe tbody tr th {\n",
              "        vertical-align: top;\n",
              "    }\n",
              "\n",
              "    .dataframe thead th {\n",
              "        text-align: right;\n",
              "    }\n",
              "</style>\n",
              "<table border=\"1\" class=\"dataframe\">\n",
              "  <thead>\n",
              "    <tr style=\"text-align: right;\">\n",
              "      <th></th>\n",
              "      <th>Acc_type</th>\n",
              "      <th>area</th>\n",
              "      <th>bed</th>\n",
              "      <th>bath</th>\n",
              "      <th>park</th>\n",
              "      <th>sizeErf</th>\n",
              "    </tr>\n",
              "  </thead>\n",
              "  <tbody>\n",
              "    <tr>\n",
              "      <th>12</th>\n",
              "      <td>House</td>\n",
              "      <td>strand-gordon</td>\n",
              "      <td>2.0</td>\n",
              "      <td>1.0</td>\n",
              "      <td>1.0</td>\n",
              "      <td>204.0</td>\n",
              "    </tr>\n",
              "    <tr>\n",
              "      <th>21</th>\n",
              "      <td>House</td>\n",
              "      <td>cape-flats</td>\n",
              "      <td>2.0</td>\n",
              "      <td>1.0</td>\n",
              "      <td>1.0</td>\n",
              "      <td>213.0</td>\n",
              "    </tr>\n",
              "    <tr>\n",
              "      <th>25</th>\n",
              "      <td>House</td>\n",
              "      <td>cape-flats</td>\n",
              "      <td>2.0</td>\n",
              "      <td>1.0</td>\n",
              "      <td>1.0</td>\n",
              "      <td>130.0</td>\n",
              "    </tr>\n",
              "    <tr>\n",
              "      <th>31</th>\n",
              "      <td>House</td>\n",
              "      <td>cape-flats</td>\n",
              "      <td>3.0</td>\n",
              "      <td>1.0</td>\n",
              "      <td>1.0</td>\n",
              "      <td>237.0</td>\n",
              "    </tr>\n",
              "    <tr>\n",
              "      <th>43</th>\n",
              "      <td>House</td>\n",
              "      <td>cape-flats</td>\n",
              "      <td>3.0</td>\n",
              "      <td>1.0</td>\n",
              "      <td>1.0</td>\n",
              "      <td>199.0</td>\n",
              "    </tr>\n",
              "  </tbody>\n",
              "</table>\n",
              "</div>"
            ],
            "text/plain": [
              "   Acc_type           area  bed  bath  park  sizeErf\n",
              "12    House  strand-gordon  2.0   1.0   1.0    204.0\n",
              "21    House     cape-flats  2.0   1.0   1.0    213.0\n",
              "25    House     cape-flats  2.0   1.0   1.0    130.0\n",
              "31    House     cape-flats  3.0   1.0   1.0    237.0\n",
              "43    House     cape-flats  3.0   1.0   1.0    199.0"
            ]
          },
          "metadata": {
            "tags": []
          },
          "execution_count": 564
        }
      ]
    },
    {
      "cell_type": "code",
      "metadata": {
        "id": "PMUxqXLCwlus",
        "colab_type": "code",
        "colab": {}
      },
      "source": [
        "from sklearn.compose import ColumnTransformer\n",
        "from sklearn.pipeline import Pipeline\n",
        "from sklearn.impute import SimpleImputer\n",
        "from sklearn.preprocessing import OneHotEncoder\n",
        "from sklearn.ensemble import RandomForestRegressor\n",
        "from sklearn.metrics import mean_absolute_error\n",
        "from xgboost import XGBRegressor \n",
        "\n",
        "# Preprocessing for numerical data\n",
        "numerical_transformer = SimpleImputer(strategy='most_frequent')\n",
        "\n",
        "# Preprocessing for categorical data\n",
        "categorical_transformer = Pipeline(steps=[\n",
        "    ('imputer', SimpleImputer(strategy='most_frequent')),\n",
        "    ('onehot', OneHotEncoder(handle_unknown='ignore'))\n",
        "])\n",
        "\n",
        "# Bundle preprocessing for numerical and categorical data\n",
        "preprocessor = ColumnTransformer(\n",
        "    transformers=[\n",
        "        ('num', numerical_transformer, numerical_cols),\n",
        "        ('cat', categorical_transformer, categorical_cols)\n",
        "    ])\n"
      ],
      "execution_count": 565,
      "outputs": []
    },
    {
      "cell_type": "markdown",
      "metadata": {
        "id": "bUb0GN-XxjW_",
        "colab_type": "text"
      },
      "source": [
        "Random Forest Model"
      ]
    },
    {
      "cell_type": "code",
      "metadata": {
        "id": "oeHEpyVBxbND",
        "colab_type": "code",
        "colab": {}
      },
      "source": [
        "# Define model\n",
        "model_forest = RandomForestRegressor(n_estimators=200, random_state=0)"
      ],
      "execution_count": 566,
      "outputs": []
    },
    {
      "cell_type": "markdown",
      "metadata": {
        "id": "oLRX6e6XiJhe",
        "colab_type": "text"
      },
      "source": [
        "XGBoost Model"
      ]
    },
    {
      "cell_type": "code",
      "metadata": {
        "id": "VpZ4R0Pj1Nej",
        "colab_type": "code",
        "colab": {}
      },
      "source": [
        "model_xgb = XGBRegressor(n_estimators=1000, learning_rate=0.05)"
      ],
      "execution_count": 567,
      "outputs": []
    },
    {
      "cell_type": "markdown",
      "metadata": {
        "id": "qpMyaojex2Mu",
        "colab_type": "text"
      },
      "source": [
        "My pipelines"
      ]
    },
    {
      "cell_type": "code",
      "metadata": {
        "id": "MvhH4QKAxvRH",
        "colab_type": "code",
        "colab": {}
      },
      "source": [
        "# Bundle preprocessing and modeling code in a pipeline\n",
        "my_pipeline_forest = Pipeline(steps=[('preprocessor', preprocessor),\n",
        "                      ('model', model_forest)\n",
        "                     ])\n",
        "\n",
        "my_pipeline_xgb = Pipeline(steps=[('preprocessor', preprocessor),\n",
        "                      ('model', model_xgb)\n",
        "                     ])"
      ],
      "execution_count": 568,
      "outputs": []
    },
    {
      "cell_type": "markdown",
      "metadata": {
        "id": "0FImC3ORyM2q",
        "colab_type": "text"
      },
      "source": [
        "Cross_validation"
      ]
    },
    {
      "cell_type": "code",
      "metadata": {
        "id": "AHyZbU1jyL9K",
        "colab_type": "code",
        "colab": {
          "base_uri": "https://localhost:8080/",
          "height": 101
        },
        "outputId": "6c49dbfa-b36a-4dfc-eb41-5ee4b6c43612"
      },
      "source": [
        "from sklearn.model_selection import cross_val_score\n",
        "\n",
        "# Multiply by -1 since sklearn calculates *negative* MAE\n",
        "scores = -1 * cross_val_score(my_pipeline_forest, X_test, y,\n",
        "                              cv=5,\n",
        "                              scoring='neg_root_mean_squared_error')\n",
        "\n",
        "print(\"RMSE scores:\\n\", scores)\n",
        "print(\"Average RMSE score (across experiments):\")\n",
        "print(scores.mean())"
      ],
      "execution_count": 234,
      "outputs": [
        {
          "output_type": "stream",
          "text": [
            "RMSE scores:\n",
            " [ 636531.2760123   596149.22591833  880331.59330261 1252821.11278706\n",
            " 2807090.41165888]\n",
            "Average RMSE score (across experiments):\n",
            "1234584.7239358362\n"
          ],
          "name": "stdout"
        }
      ]
    },
    {
      "cell_type": "code",
      "metadata": {
        "id": "vZ47ysWcDp-C",
        "colab_type": "code",
        "colab": {}
      },
      "source": [
        "\n",
        "sorted(metrics.SCORERS.keys())"
      ],
      "execution_count": null,
      "outputs": []
    },
    {
      "cell_type": "code",
      "metadata": {
        "id": "Jb-_ypiRAIXC",
        "colab_type": "code",
        "colab": {
          "base_uri": "https://localhost:8080/",
          "height": 185
        },
        "outputId": "9cd696e6-c5f9-4fd4-8679-e0174ca2966e"
      },
      "source": [
        "from sklearn.model_selection import cross_val_score\n",
        "# Multiply by -1 since sklearn calculates *negative* RMSE\n",
        "scores = -1 *  cross_val_score(my_pipeline_xgb, X_test, y,\n",
        "                              cv=5,\n",
        "                              scoring='neg_root_mean_squared_error')\n",
        "\n",
        "print(\"RMSE scores:\\n\", scores)\n",
        "print(\"Average RMSE score (across experiments):\")\n",
        "print(scores.mean())"
      ],
      "execution_count": 569,
      "outputs": [
        {
          "output_type": "stream",
          "text": [
            "[00:43:13] WARNING: /workspace/src/objective/regression_obj.cu:152: reg:linear is now deprecated in favor of reg:squarederror.\n",
            "[00:43:15] WARNING: /workspace/src/objective/regression_obj.cu:152: reg:linear is now deprecated in favor of reg:squarederror.\n",
            "[00:43:17] WARNING: /workspace/src/objective/regression_obj.cu:152: reg:linear is now deprecated in favor of reg:squarederror.\n",
            "[00:43:20] WARNING: /workspace/src/objective/regression_obj.cu:152: reg:linear is now deprecated in favor of reg:squarederror.\n",
            "[00:43:22] WARNING: /workspace/src/objective/regression_obj.cu:152: reg:linear is now deprecated in favor of reg:squarederror.\n",
            "RMSE scores:\n",
            " [1203869.00433164 1102756.32444849 1126088.28357635 1424133.62212884\n",
            " 3301573.49589116]\n",
            "Average RMSE score (across experiments):\n",
            "1631684.1460752974\n"
          ],
          "name": "stdout"
        }
      ]
    },
    {
      "cell_type": "code",
      "metadata": {
        "id": "ykXJERAmU_oT",
        "colab_type": "code",
        "colab": {}
      },
      "source": [
        "params = {\n",
        "        'model__min_child_weight': [1, 5, 10],\n",
        "        'model__gamma': [0.5, 1, 1.5, 2, 5],\n",
        "        'model__subsample': [0.6, 0.8, 1.0],\n",
        "        'model__colsample_bytree': [0.6, 0.8, 1.0],\n",
        "        'model__max_depth': [3, 4, 5]\n",
        "        }"
      ],
      "execution_count": 570,
      "outputs": []
    },
    {
      "cell_type": "code",
      "metadata": {
        "id": "R1RjiA4VVGg9",
        "colab_type": "code",
        "colab": {}
      },
      "source": [
        "from sklearn.model_selection import RandomizedSearchCV\n",
        "random_search = RandomizedSearchCV(my_pipeline_xgb, param_distributions=params, n_iter=5, scoring='neg_root_mean_squared_error', n_jobs=4, cv=5, verbose=3, random_state=1001 )"
      ],
      "execution_count": 571,
      "outputs": []
    },
    {
      "cell_type": "code",
      "metadata": {
        "id": "8e6cOXQ6V95z",
        "colab_type": "code",
        "colab": {
          "base_uri": "https://localhost:8080/",
          "height": 54
        },
        "outputId": "d4fee7eb-808c-49b4-be43-26b5d6b5c1ca"
      },
      "source": [
        "my_pipeline_xgb.get_params().keys()"
      ],
      "execution_count": 572,
      "outputs": [
        {
          "output_type": "execute_result",
          "data": {
            "text/plain": [
              "dict_keys(['memory', 'steps', 'verbose', 'preprocessor', 'model', 'preprocessor__n_jobs', 'preprocessor__remainder', 'preprocessor__sparse_threshold', 'preprocessor__transformer_weights', 'preprocessor__transformers', 'preprocessor__verbose', 'preprocessor__num', 'preprocessor__cat', 'preprocessor__num__add_indicator', 'preprocessor__num__copy', 'preprocessor__num__fill_value', 'preprocessor__num__missing_values', 'preprocessor__num__strategy', 'preprocessor__num__verbose', 'preprocessor__cat__memory', 'preprocessor__cat__steps', 'preprocessor__cat__verbose', 'preprocessor__cat__imputer', 'preprocessor__cat__onehot', 'preprocessor__cat__imputer__add_indicator', 'preprocessor__cat__imputer__copy', 'preprocessor__cat__imputer__fill_value', 'preprocessor__cat__imputer__missing_values', 'preprocessor__cat__imputer__strategy', 'preprocessor__cat__imputer__verbose', 'preprocessor__cat__onehot__categories', 'preprocessor__cat__onehot__drop', 'preprocessor__cat__onehot__dtype', 'preprocessor__cat__onehot__handle_unknown', 'preprocessor__cat__onehot__sparse', 'model__base_score', 'model__booster', 'model__colsample_bylevel', 'model__colsample_bynode', 'model__colsample_bytree', 'model__gamma', 'model__importance_type', 'model__learning_rate', 'model__max_delta_step', 'model__max_depth', 'model__min_child_weight', 'model__missing', 'model__n_estimators', 'model__n_jobs', 'model__nthread', 'model__objective', 'model__random_state', 'model__reg_alpha', 'model__reg_lambda', 'model__scale_pos_weight', 'model__seed', 'model__silent', 'model__subsample', 'model__verbosity'])"
            ]
          },
          "metadata": {
            "tags": []
          },
          "execution_count": 572
        }
      ]
    },
    {
      "cell_type": "code",
      "metadata": {
        "id": "jF3CCV-fVe00",
        "colab_type": "code",
        "colab": {
          "base_uri": "https://localhost:8080/",
          "height": 571
        },
        "outputId": "51d3d4ce-63a8-4f44-8d01-bb8e3ec4cc4d"
      },
      "source": [
        "random_search.fit(X_test, y)\n"
      ],
      "execution_count": 573,
      "outputs": [
        {
          "output_type": "stream",
          "text": [
            "Fitting 5 folds for each of 5 candidates, totalling 25 fits\n"
          ],
          "name": "stdout"
        },
        {
          "output_type": "stream",
          "text": [
            "[Parallel(n_jobs=4)]: Using backend LokyBackend with 4 concurrent workers.\n",
            "[Parallel(n_jobs=4)]: Done  25 out of  25 | elapsed:  1.2min finished\n"
          ],
          "name": "stderr"
        },
        {
          "output_type": "stream",
          "text": [
            "[01:16:59] WARNING: /workspace/src/objective/regression_obj.cu:152: reg:linear is now deprecated in favor of reg:squarederror.\n"
          ],
          "name": "stdout"
        },
        {
          "output_type": "execute_result",
          "data": {
            "text/plain": [
              "RandomizedSearchCV(cv=5, error_score=nan,\n",
              "                   estimator=Pipeline(memory=None,\n",
              "                                      steps=[('preprocessor',\n",
              "                                              ColumnTransformer(n_jobs=None,\n",
              "                                                                remainder='drop',\n",
              "                                                                sparse_threshold=0.3,\n",
              "                                                                transformer_weights=None,\n",
              "                                                                transformers=[('num',\n",
              "                                                                               SimpleImputer(add_indicator=False,\n",
              "                                                                                             copy=True,\n",
              "                                                                                             fill_value=None,\n",
              "                                                                                             missing_values=nan,\n",
              "                                                                                             strategy='most_frequent',\n",
              "                                                                                             verbose=0),\n",
              "                                                                               ['bed',\n",
              "                                                                                'bath',\n",
              "                                                                                'park',\n",
              "                                                                                'sizeE...\n",
              "                                      verbose=False),\n",
              "                   iid='deprecated', n_iter=5, n_jobs=4,\n",
              "                   param_distributions={'model__colsample_bytree': [0.6, 0.8,\n",
              "                                                                    1.0],\n",
              "                                        'model__gamma': [0.5, 1, 1.5, 2, 5],\n",
              "                                        'model__max_depth': [3, 4, 5],\n",
              "                                        'model__min_child_weight': [1, 5, 10],\n",
              "                                        'model__subsample': [0.6, 0.8, 1.0]},\n",
              "                   pre_dispatch='2*n_jobs', random_state=1001, refit=True,\n",
              "                   return_train_score=False,\n",
              "                   scoring='neg_root_mean_squared_error', verbose=3)"
            ]
          },
          "metadata": {
            "tags": []
          },
          "execution_count": 573
        }
      ]
    },
    {
      "cell_type": "code",
      "metadata": {
        "id": "RFbqB0o0YrTn",
        "colab_type": "code",
        "colab": {
          "base_uri": "https://localhost:8080/",
          "height": 994
        },
        "outputId": "b409ae1b-733f-49b5-cfb3-da1157a02bb9"
      },
      "source": [
        "print('\\n All results:')\n",
        "print(random_search.cv_results_)\n",
        "print('\\n Best estimator:')\n",
        "print(random_search.best_estimator_)\n",
        "print('\\n Best hyperparameters:')\n",
        "print(random_search.best_params_)"
      ],
      "execution_count": 574,
      "outputs": [
        {
          "output_type": "stream",
          "text": [
            "\n",
            " All results:\n",
            "{'mean_fit_time': array([ 7.84768763, 13.71600442, 12.1783844 ,  9.149366  , 10.2734405 ]), 'std_fit_time': array([0.02558382, 0.0617043 , 0.06232907, 0.06923392, 2.06311944]), 'mean_score_time': array([0.11489019, 0.18528447, 0.16903076, 0.16188617, 0.08845406]), 'std_score_time': array([0.00897285, 0.01433543, 0.03216195, 0.0136444 , 0.02788261]), 'param_model__subsample': masked_array(data=[1.0, 0.6, 0.8, 1.0, 0.8],\n",
            "             mask=[False, False, False, False, False],\n",
            "       fill_value='?',\n",
            "            dtype=object), 'param_model__min_child_weight': masked_array(data=[5, 1, 5, 5, 1],\n",
            "             mask=[False, False, False, False, False],\n",
            "       fill_value='?',\n",
            "            dtype=object), 'param_model__max_depth': masked_array(data=[3, 5, 5, 5, 4],\n",
            "             mask=[False, False, False, False, False],\n",
            "       fill_value='?',\n",
            "            dtype=object), 'param_model__gamma': masked_array(data=[5, 1.5, 1, 5, 1],\n",
            "             mask=[False, False, False, False, False],\n",
            "       fill_value='?',\n",
            "            dtype=object), 'param_model__colsample_bytree': masked_array(data=[1.0, 0.8, 0.8, 0.6, 1.0],\n",
            "             mask=[False, False, False, False, False],\n",
            "       fill_value='?',\n",
            "            dtype=object), 'params': [{'model__subsample': 1.0, 'model__min_child_weight': 5, 'model__max_depth': 3, 'model__gamma': 5, 'model__colsample_bytree': 1.0}, {'model__subsample': 0.6, 'model__min_child_weight': 1, 'model__max_depth': 5, 'model__gamma': 1.5, 'model__colsample_bytree': 0.8}, {'model__subsample': 0.8, 'model__min_child_weight': 5, 'model__max_depth': 5, 'model__gamma': 1, 'model__colsample_bytree': 0.8}, {'model__subsample': 1.0, 'model__min_child_weight': 5, 'model__max_depth': 5, 'model__gamma': 5, 'model__colsample_bytree': 0.6}, {'model__subsample': 0.8, 'model__min_child_weight': 1, 'model__max_depth': 4, 'model__gamma': 1, 'model__colsample_bytree': 1.0}], 'split0_test_score': array([-1175531.37232824, -1284441.16491125, -1265185.68290364,\n",
            "       -1207911.10716927, -1224190.70972167]), 'split1_test_score': array([-1092958.19181013, -1114090.83352983, -1101702.32630884,\n",
            "       -1110741.63349954, -1097887.84910319]), 'split2_test_score': array([-1116474.51999504, -1211485.48175   , -1191723.90761298,\n",
            "       -1165186.86773942, -1167301.12813535]), 'split3_test_score': array([-1413862.13519022, -1542770.38257738, -1511051.80592102,\n",
            "       -1472042.19389962, -1486911.9157833 ]), 'split4_test_score': array([-3318095.84606883, -3314670.89503223, -3317553.00070845,\n",
            "       -3340900.08136633, -3311185.83290328]), 'mean_test_score': array([-1623384.41307849, -1693491.75156014, -1677443.34469099,\n",
            "       -1659356.37673484, -1657495.48712936]), 'std_test_score': array([854965.30784165, 822957.66558012, 831264.49454327, 849901.20663593,\n",
            "       837256.80203509]), 'rank_test_score': array([1, 5, 4, 3, 2], dtype=int32)}\n",
            "\n",
            " Best estimator:\n",
            "Pipeline(memory=None,\n",
            "         steps=[('preprocessor',\n",
            "                 ColumnTransformer(n_jobs=None, remainder='drop',\n",
            "                                   sparse_threshold=0.3,\n",
            "                                   transformer_weights=None,\n",
            "                                   transformers=[('num',\n",
            "                                                  SimpleImputer(add_indicator=False,\n",
            "                                                                copy=True,\n",
            "                                                                fill_value=None,\n",
            "                                                                missing_values=nan,\n",
            "                                                                strategy='most_frequent',\n",
            "                                                                verbose=0),\n",
            "                                                  ['bed', 'bath', 'park',\n",
            "                                                   'sizeErf']),\n",
            "                                                 ('cat',\n",
            "                                                  Pipeline(memory=None,\n",
            "                                                           steps=[('imputer...\n",
            "                              colsample_bylevel=1, colsample_bynode=1,\n",
            "                              colsample_bytree=1.0, gamma=5,\n",
            "                              importance_type='gain', learning_rate=0.05,\n",
            "                              max_delta_step=0, max_depth=3, min_child_weight=5,\n",
            "                              missing=None, n_estimators=1000, n_jobs=1,\n",
            "                              nthread=None, objective='reg:linear',\n",
            "                              random_state=0, reg_alpha=0, reg_lambda=1,\n",
            "                              scale_pos_weight=1, seed=None, silent=None,\n",
            "                              subsample=1.0, verbosity=1))],\n",
            "         verbose=False)\n",
            "\n",
            " Best hyperparameters:\n",
            "{'model__subsample': 1.0, 'model__min_child_weight': 5, 'model__max_depth': 3, 'model__gamma': 5, 'model__colsample_bytree': 1.0}\n"
          ],
          "name": "stdout"
        }
      ]
    },
    {
      "cell_type": "code",
      "metadata": {
        "id": "PTCLf6DfY70j",
        "colab_type": "code",
        "colab": {
          "base_uri": "https://localhost:8080/",
          "height": 34
        },
        "outputId": "3007953c-e720-4ff8-f739-3b6892a64dcf"
      },
      "source": [
        "X_full['sub'].nunique()"
      ],
      "execution_count": 387,
      "outputs": [
        {
          "output_type": "execute_result",
          "data": {
            "text/plain": [
              "260"
            ]
          },
          "metadata": {
            "tags": []
          },
          "execution_count": 387
        }
      ]
    },
    {
      "cell_type": "code",
      "metadata": {
        "id": "6rRvvN2SYwIn",
        "colab_type": "code",
        "colab": {}
      },
      "source": [
        "model_xgb = XGBRegressor(n_estimators=1000, learning_rate=0.05, subsample=1, min_child_weight=5, max_depth=3, gamma=5, colsample_bytree = 1)"
      ],
      "execution_count": 575,
      "outputs": []
    },
    {
      "cell_type": "code",
      "metadata": {
        "id": "MTSf2YN7aCjr",
        "colab_type": "code",
        "colab": {}
      },
      "source": [
        "my_pipeline_xgb = Pipeline(steps=[('preprocessor', preprocessor),\n",
        "                      ('model', model_xgb)\n",
        "                     ])"
      ],
      "execution_count": 576,
      "outputs": []
    },
    {
      "cell_type": "code",
      "metadata": {
        "id": "HajpUC_NaF5Q",
        "colab_type": "code",
        "colab": {
          "base_uri": "https://localhost:8080/",
          "height": 185
        },
        "outputId": "ecafd9fc-ff2e-444e-8c94-843c1e83b27d"
      },
      "source": [
        "from sklearn.model_selection import cross_val_score\n",
        "# Multiply by -1 since sklearn calculates *negative* RMSE\n",
        "scores = -1 *  cross_val_score(my_pipeline_xgb, X_test, y,\n",
        "                              cv=5,\n",
        "                              scoring='neg_root_mean_squared_error')\n",
        "\n",
        "print(\"RMSE scores:\\n\", scores)\n",
        "print(\"Average RMSE score (across experiments):\")\n",
        "print(scores.mean())"
      ],
      "execution_count": 577,
      "outputs": [
        {
          "output_type": "stream",
          "text": [
            "[01:18:11] WARNING: /workspace/src/objective/regression_obj.cu:152: reg:linear is now deprecated in favor of reg:squarederror.\n",
            "[01:18:13] WARNING: /workspace/src/objective/regression_obj.cu:152: reg:linear is now deprecated in favor of reg:squarederror.\n",
            "[01:18:16] WARNING: /workspace/src/objective/regression_obj.cu:152: reg:linear is now deprecated in favor of reg:squarederror.\n",
            "[01:18:18] WARNING: /workspace/src/objective/regression_obj.cu:152: reg:linear is now deprecated in favor of reg:squarederror.\n",
            "[01:18:20] WARNING: /workspace/src/objective/regression_obj.cu:152: reg:linear is now deprecated in favor of reg:squarederror.\n",
            "RMSE scores:\n",
            " [1175531.37232824 1092958.19181013 1116474.51999504 1413862.13519022\n",
            " 3318095.84606883]\n",
            "Average RMSE score (across experiments):\n",
            "1623384.413078491\n"
          ],
          "name": "stdout"
        }
      ]
    }
  ]
}